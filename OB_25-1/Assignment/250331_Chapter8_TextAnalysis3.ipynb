{
  "nbformat": 4,
  "nbformat_minor": 0,
  "metadata": {
    "colab": {
      "provenance": []
    },
    "kernelspec": {
      "name": "python3",
      "display_name": "Python 3"
    },
    "language_info": {
      "name": "python"
    }
  },
  "cells": [
    {
      "cell_type": "markdown",
      "source": [
        "파이썬 머신러닝 완벽 가이드 개정 2판 8장 p.534-538, p.550-565\n",
        "\n",
        "### **[개념정리 & 코드필사]**\n",
        "\n",
        "### **06. 토픽 모델링(Topic Modeling) - 20 뉴스그룹**\n",
        "\n",
        "- 토픽모델링: 문서 집합에 숨어 있는 중요 주제를 찾아내는 것. 주제를 효과적으로 표현할 수 있는 중심 단어를 함축적으로 추출\n",
        "- 토필모델링 기법: LDA(차원축소의 LDA와 구분에 유의)\n",
        "  - 사이킷런의 LatentDirichletAllocation()\n",
        "- 실습: 20가지의 주제를 가진 뉴스그룹 데이터 세트에서 8개의 주제를 추출해 LDA 기반 토픽 모델링 진행\n",
        "  - 추출한 텍스트를 Count 기반으로 벡터화 변환 -> LDA는 Count기반 벡터화만 사용하기 때문\n",
        "    - max_features(word 피처 개수 제한), ngram_range 설정\n",
        "    - LatentDirichletAllocation클래스: n_components로 토픽 개수 조정, fit(데이터)로 속성값 가짐\n",
        "      - components_: 개별 토픽별 각 word 피처가 얼마다 많이 그 토픽에 할당됐는지에 대한 수치. 높을수록 중심 word임.\n",
        "     - display_topics() 함수를 만들어서 각 토픽별 연관도가 높은 순으로 Word를 나열\n",
        "- Topic 별 주제어 추출 가능. 대부분 토픽에서 명확한 주제어가 추출됨\n",
        "\n",
        "\n"
      ],
      "metadata": {
        "id": "YN30cYPHXUfB"
      }
    },
    {
      "cell_type": "code",
      "execution_count": null,
      "metadata": {
        "id": "xAmA258ysGmI",
        "colab": {
          "base_uri": "https://localhost:8080/"
        },
        "outputId": "3acd8d9c-bd13-48fe-fd81-aab429e3271f"
      },
      "outputs": [
        {
          "output_type": "stream",
          "name": "stdout",
          "text": [
            "CountVectorizer Shape: (7862, 100)\n"
          ]
        }
      ],
      "source": [
        "from sklearn.datasets import fetch_20newsgroups\n",
        "from sklearn.feature_extraction.text import CountVectorizer\n",
        "from sklearn.decomposition import LatentDirichletAllocation\n",
        "\n",
        "# 모터사이클, 야구, 그래픽스, 윈도우즈, 중동, 기독교, 전자공학, 의학 8개 주제를 추출\n",
        "cats = ['rec.motorcycles','rec.sport.baseball','comp.graphics','comp.windows.x',\n",
        "        'talk.politics.mideast','soc.religion.christian','sci.electronics','sci.med']\n",
        "\n",
        "# 위에서 cats 변수로 기재된 카테고리만 추출. fetch_20newsgroups()의 categories에 cats 입력\n",
        "news_df = fetch_20newsgroups(subset='all',remove=('headers','footers','quotes'),\n",
        "                             categories = cats, random_state=0)\n",
        "\n",
        "# LDA는 count 기반의 벡터화만 적용함\n",
        "count_vect = CountVectorizer(max_df=0.95, max_features=100, min_df=2, stop_words='english',ngram_range=(1,2))\n",
        "feat_vect = count_vect.fit_transform(news_df.data)\n",
        "print('CountVectorizer Shape:', feat_vect.shape)"
      ]
    },
    {
      "cell_type": "code",
      "source": [
        "lda = LatentDirichletAllocation(n_components=8, random_state=0)\n",
        "lda.fit(feat_vect)"
      ],
      "metadata": {
        "colab": {
          "base_uri": "https://localhost:8080/",
          "height": 80
        },
        "id": "l4BVf-_JeyoX",
        "outputId": "04b8ce85-5020-4d41-b7b2-2d03a7820449"
      },
      "execution_count": null,
      "outputs": [
        {
          "output_type": "execute_result",
          "data": {
            "text/plain": [
              "LatentDirichletAllocation(n_components=8, random_state=0)"
            ],
            "text/html": [
              "<style>#sk-container-id-1 {\n",
              "  /* Definition of color scheme common for light and dark mode */\n",
              "  --sklearn-color-text: #000;\n",
              "  --sklearn-color-text-muted: #666;\n",
              "  --sklearn-color-line: gray;\n",
              "  /* Definition of color scheme for unfitted estimators */\n",
              "  --sklearn-color-unfitted-level-0: #fff5e6;\n",
              "  --sklearn-color-unfitted-level-1: #f6e4d2;\n",
              "  --sklearn-color-unfitted-level-2: #ffe0b3;\n",
              "  --sklearn-color-unfitted-level-3: chocolate;\n",
              "  /* Definition of color scheme for fitted estimators */\n",
              "  --sklearn-color-fitted-level-0: #f0f8ff;\n",
              "  --sklearn-color-fitted-level-1: #d4ebff;\n",
              "  --sklearn-color-fitted-level-2: #b3dbfd;\n",
              "  --sklearn-color-fitted-level-3: cornflowerblue;\n",
              "\n",
              "  /* Specific color for light theme */\n",
              "  --sklearn-color-text-on-default-background: var(--sg-text-color, var(--theme-code-foreground, var(--jp-content-font-color1, black)));\n",
              "  --sklearn-color-background: var(--sg-background-color, var(--theme-background, var(--jp-layout-color0, white)));\n",
              "  --sklearn-color-border-box: var(--sg-text-color, var(--theme-code-foreground, var(--jp-content-font-color1, black)));\n",
              "  --sklearn-color-icon: #696969;\n",
              "\n",
              "  @media (prefers-color-scheme: dark) {\n",
              "    /* Redefinition of color scheme for dark theme */\n",
              "    --sklearn-color-text-on-default-background: var(--sg-text-color, var(--theme-code-foreground, var(--jp-content-font-color1, white)));\n",
              "    --sklearn-color-background: var(--sg-background-color, var(--theme-background, var(--jp-layout-color0, #111)));\n",
              "    --sklearn-color-border-box: var(--sg-text-color, var(--theme-code-foreground, var(--jp-content-font-color1, white)));\n",
              "    --sklearn-color-icon: #878787;\n",
              "  }\n",
              "}\n",
              "\n",
              "#sk-container-id-1 {\n",
              "  color: var(--sklearn-color-text);\n",
              "}\n",
              "\n",
              "#sk-container-id-1 pre {\n",
              "  padding: 0;\n",
              "}\n",
              "\n",
              "#sk-container-id-1 input.sk-hidden--visually {\n",
              "  border: 0;\n",
              "  clip: rect(1px 1px 1px 1px);\n",
              "  clip: rect(1px, 1px, 1px, 1px);\n",
              "  height: 1px;\n",
              "  margin: -1px;\n",
              "  overflow: hidden;\n",
              "  padding: 0;\n",
              "  position: absolute;\n",
              "  width: 1px;\n",
              "}\n",
              "\n",
              "#sk-container-id-1 div.sk-dashed-wrapped {\n",
              "  border: 1px dashed var(--sklearn-color-line);\n",
              "  margin: 0 0.4em 0.5em 0.4em;\n",
              "  box-sizing: border-box;\n",
              "  padding-bottom: 0.4em;\n",
              "  background-color: var(--sklearn-color-background);\n",
              "}\n",
              "\n",
              "#sk-container-id-1 div.sk-container {\n",
              "  /* jupyter's `normalize.less` sets `[hidden] { display: none; }`\n",
              "     but bootstrap.min.css set `[hidden] { display: none !important; }`\n",
              "     so we also need the `!important` here to be able to override the\n",
              "     default hidden behavior on the sphinx rendered scikit-learn.org.\n",
              "     See: https://github.com/scikit-learn/scikit-learn/issues/21755 */\n",
              "  display: inline-block !important;\n",
              "  position: relative;\n",
              "}\n",
              "\n",
              "#sk-container-id-1 div.sk-text-repr-fallback {\n",
              "  display: none;\n",
              "}\n",
              "\n",
              "div.sk-parallel-item,\n",
              "div.sk-serial,\n",
              "div.sk-item {\n",
              "  /* draw centered vertical line to link estimators */\n",
              "  background-image: linear-gradient(var(--sklearn-color-text-on-default-background), var(--sklearn-color-text-on-default-background));\n",
              "  background-size: 2px 100%;\n",
              "  background-repeat: no-repeat;\n",
              "  background-position: center center;\n",
              "}\n",
              "\n",
              "/* Parallel-specific style estimator block */\n",
              "\n",
              "#sk-container-id-1 div.sk-parallel-item::after {\n",
              "  content: \"\";\n",
              "  width: 100%;\n",
              "  border-bottom: 2px solid var(--sklearn-color-text-on-default-background);\n",
              "  flex-grow: 1;\n",
              "}\n",
              "\n",
              "#sk-container-id-1 div.sk-parallel {\n",
              "  display: flex;\n",
              "  align-items: stretch;\n",
              "  justify-content: center;\n",
              "  background-color: var(--sklearn-color-background);\n",
              "  position: relative;\n",
              "}\n",
              "\n",
              "#sk-container-id-1 div.sk-parallel-item {\n",
              "  display: flex;\n",
              "  flex-direction: column;\n",
              "}\n",
              "\n",
              "#sk-container-id-1 div.sk-parallel-item:first-child::after {\n",
              "  align-self: flex-end;\n",
              "  width: 50%;\n",
              "}\n",
              "\n",
              "#sk-container-id-1 div.sk-parallel-item:last-child::after {\n",
              "  align-self: flex-start;\n",
              "  width: 50%;\n",
              "}\n",
              "\n",
              "#sk-container-id-1 div.sk-parallel-item:only-child::after {\n",
              "  width: 0;\n",
              "}\n",
              "\n",
              "/* Serial-specific style estimator block */\n",
              "\n",
              "#sk-container-id-1 div.sk-serial {\n",
              "  display: flex;\n",
              "  flex-direction: column;\n",
              "  align-items: center;\n",
              "  background-color: var(--sklearn-color-background);\n",
              "  padding-right: 1em;\n",
              "  padding-left: 1em;\n",
              "}\n",
              "\n",
              "\n",
              "/* Toggleable style: style used for estimator/Pipeline/ColumnTransformer box that is\n",
              "clickable and can be expanded/collapsed.\n",
              "- Pipeline and ColumnTransformer use this feature and define the default style\n",
              "- Estimators will overwrite some part of the style using the `sk-estimator` class\n",
              "*/\n",
              "\n",
              "/* Pipeline and ColumnTransformer style (default) */\n",
              "\n",
              "#sk-container-id-1 div.sk-toggleable {\n",
              "  /* Default theme specific background. It is overwritten whether we have a\n",
              "  specific estimator or a Pipeline/ColumnTransformer */\n",
              "  background-color: var(--sklearn-color-background);\n",
              "}\n",
              "\n",
              "/* Toggleable label */\n",
              "#sk-container-id-1 label.sk-toggleable__label {\n",
              "  cursor: pointer;\n",
              "  display: flex;\n",
              "  width: 100%;\n",
              "  margin-bottom: 0;\n",
              "  padding: 0.5em;\n",
              "  box-sizing: border-box;\n",
              "  text-align: center;\n",
              "  align-items: start;\n",
              "  justify-content: space-between;\n",
              "  gap: 0.5em;\n",
              "}\n",
              "\n",
              "#sk-container-id-1 label.sk-toggleable__label .caption {\n",
              "  font-size: 0.6rem;\n",
              "  font-weight: lighter;\n",
              "  color: var(--sklearn-color-text-muted);\n",
              "}\n",
              "\n",
              "#sk-container-id-1 label.sk-toggleable__label-arrow:before {\n",
              "  /* Arrow on the left of the label */\n",
              "  content: \"▸\";\n",
              "  float: left;\n",
              "  margin-right: 0.25em;\n",
              "  color: var(--sklearn-color-icon);\n",
              "}\n",
              "\n",
              "#sk-container-id-1 label.sk-toggleable__label-arrow:hover:before {\n",
              "  color: var(--sklearn-color-text);\n",
              "}\n",
              "\n",
              "/* Toggleable content - dropdown */\n",
              "\n",
              "#sk-container-id-1 div.sk-toggleable__content {\n",
              "  max-height: 0;\n",
              "  max-width: 0;\n",
              "  overflow: hidden;\n",
              "  text-align: left;\n",
              "  /* unfitted */\n",
              "  background-color: var(--sklearn-color-unfitted-level-0);\n",
              "}\n",
              "\n",
              "#sk-container-id-1 div.sk-toggleable__content.fitted {\n",
              "  /* fitted */\n",
              "  background-color: var(--sklearn-color-fitted-level-0);\n",
              "}\n",
              "\n",
              "#sk-container-id-1 div.sk-toggleable__content pre {\n",
              "  margin: 0.2em;\n",
              "  border-radius: 0.25em;\n",
              "  color: var(--sklearn-color-text);\n",
              "  /* unfitted */\n",
              "  background-color: var(--sklearn-color-unfitted-level-0);\n",
              "}\n",
              "\n",
              "#sk-container-id-1 div.sk-toggleable__content.fitted pre {\n",
              "  /* unfitted */\n",
              "  background-color: var(--sklearn-color-fitted-level-0);\n",
              "}\n",
              "\n",
              "#sk-container-id-1 input.sk-toggleable__control:checked~div.sk-toggleable__content {\n",
              "  /* Expand drop-down */\n",
              "  max-height: 200px;\n",
              "  max-width: 100%;\n",
              "  overflow: auto;\n",
              "}\n",
              "\n",
              "#sk-container-id-1 input.sk-toggleable__control:checked~label.sk-toggleable__label-arrow:before {\n",
              "  content: \"▾\";\n",
              "}\n",
              "\n",
              "/* Pipeline/ColumnTransformer-specific style */\n",
              "\n",
              "#sk-container-id-1 div.sk-label input.sk-toggleable__control:checked~label.sk-toggleable__label {\n",
              "  color: var(--sklearn-color-text);\n",
              "  background-color: var(--sklearn-color-unfitted-level-2);\n",
              "}\n",
              "\n",
              "#sk-container-id-1 div.sk-label.fitted input.sk-toggleable__control:checked~label.sk-toggleable__label {\n",
              "  background-color: var(--sklearn-color-fitted-level-2);\n",
              "}\n",
              "\n",
              "/* Estimator-specific style */\n",
              "\n",
              "/* Colorize estimator box */\n",
              "#sk-container-id-1 div.sk-estimator input.sk-toggleable__control:checked~label.sk-toggleable__label {\n",
              "  /* unfitted */\n",
              "  background-color: var(--sklearn-color-unfitted-level-2);\n",
              "}\n",
              "\n",
              "#sk-container-id-1 div.sk-estimator.fitted input.sk-toggleable__control:checked~label.sk-toggleable__label {\n",
              "  /* fitted */\n",
              "  background-color: var(--sklearn-color-fitted-level-2);\n",
              "}\n",
              "\n",
              "#sk-container-id-1 div.sk-label label.sk-toggleable__label,\n",
              "#sk-container-id-1 div.sk-label label {\n",
              "  /* The background is the default theme color */\n",
              "  color: var(--sklearn-color-text-on-default-background);\n",
              "}\n",
              "\n",
              "/* On hover, darken the color of the background */\n",
              "#sk-container-id-1 div.sk-label:hover label.sk-toggleable__label {\n",
              "  color: var(--sklearn-color-text);\n",
              "  background-color: var(--sklearn-color-unfitted-level-2);\n",
              "}\n",
              "\n",
              "/* Label box, darken color on hover, fitted */\n",
              "#sk-container-id-1 div.sk-label.fitted:hover label.sk-toggleable__label.fitted {\n",
              "  color: var(--sklearn-color-text);\n",
              "  background-color: var(--sklearn-color-fitted-level-2);\n",
              "}\n",
              "\n",
              "/* Estimator label */\n",
              "\n",
              "#sk-container-id-1 div.sk-label label {\n",
              "  font-family: monospace;\n",
              "  font-weight: bold;\n",
              "  display: inline-block;\n",
              "  line-height: 1.2em;\n",
              "}\n",
              "\n",
              "#sk-container-id-1 div.sk-label-container {\n",
              "  text-align: center;\n",
              "}\n",
              "\n",
              "/* Estimator-specific */\n",
              "#sk-container-id-1 div.sk-estimator {\n",
              "  font-family: monospace;\n",
              "  border: 1px dotted var(--sklearn-color-border-box);\n",
              "  border-radius: 0.25em;\n",
              "  box-sizing: border-box;\n",
              "  margin-bottom: 0.5em;\n",
              "  /* unfitted */\n",
              "  background-color: var(--sklearn-color-unfitted-level-0);\n",
              "}\n",
              "\n",
              "#sk-container-id-1 div.sk-estimator.fitted {\n",
              "  /* fitted */\n",
              "  background-color: var(--sklearn-color-fitted-level-0);\n",
              "}\n",
              "\n",
              "/* on hover */\n",
              "#sk-container-id-1 div.sk-estimator:hover {\n",
              "  /* unfitted */\n",
              "  background-color: var(--sklearn-color-unfitted-level-2);\n",
              "}\n",
              "\n",
              "#sk-container-id-1 div.sk-estimator.fitted:hover {\n",
              "  /* fitted */\n",
              "  background-color: var(--sklearn-color-fitted-level-2);\n",
              "}\n",
              "\n",
              "/* Specification for estimator info (e.g. \"i\" and \"?\") */\n",
              "\n",
              "/* Common style for \"i\" and \"?\" */\n",
              "\n",
              ".sk-estimator-doc-link,\n",
              "a:link.sk-estimator-doc-link,\n",
              "a:visited.sk-estimator-doc-link {\n",
              "  float: right;\n",
              "  font-size: smaller;\n",
              "  line-height: 1em;\n",
              "  font-family: monospace;\n",
              "  background-color: var(--sklearn-color-background);\n",
              "  border-radius: 1em;\n",
              "  height: 1em;\n",
              "  width: 1em;\n",
              "  text-decoration: none !important;\n",
              "  margin-left: 0.5em;\n",
              "  text-align: center;\n",
              "  /* unfitted */\n",
              "  border: var(--sklearn-color-unfitted-level-1) 1pt solid;\n",
              "  color: var(--sklearn-color-unfitted-level-1);\n",
              "}\n",
              "\n",
              ".sk-estimator-doc-link.fitted,\n",
              "a:link.sk-estimator-doc-link.fitted,\n",
              "a:visited.sk-estimator-doc-link.fitted {\n",
              "  /* fitted */\n",
              "  border: var(--sklearn-color-fitted-level-1) 1pt solid;\n",
              "  color: var(--sklearn-color-fitted-level-1);\n",
              "}\n",
              "\n",
              "/* On hover */\n",
              "div.sk-estimator:hover .sk-estimator-doc-link:hover,\n",
              ".sk-estimator-doc-link:hover,\n",
              "div.sk-label-container:hover .sk-estimator-doc-link:hover,\n",
              ".sk-estimator-doc-link:hover {\n",
              "  /* unfitted */\n",
              "  background-color: var(--sklearn-color-unfitted-level-3);\n",
              "  color: var(--sklearn-color-background);\n",
              "  text-decoration: none;\n",
              "}\n",
              "\n",
              "div.sk-estimator.fitted:hover .sk-estimator-doc-link.fitted:hover,\n",
              ".sk-estimator-doc-link.fitted:hover,\n",
              "div.sk-label-container:hover .sk-estimator-doc-link.fitted:hover,\n",
              ".sk-estimator-doc-link.fitted:hover {\n",
              "  /* fitted */\n",
              "  background-color: var(--sklearn-color-fitted-level-3);\n",
              "  color: var(--sklearn-color-background);\n",
              "  text-decoration: none;\n",
              "}\n",
              "\n",
              "/* Span, style for the box shown on hovering the info icon */\n",
              ".sk-estimator-doc-link span {\n",
              "  display: none;\n",
              "  z-index: 9999;\n",
              "  position: relative;\n",
              "  font-weight: normal;\n",
              "  right: .2ex;\n",
              "  padding: .5ex;\n",
              "  margin: .5ex;\n",
              "  width: min-content;\n",
              "  min-width: 20ex;\n",
              "  max-width: 50ex;\n",
              "  color: var(--sklearn-color-text);\n",
              "  box-shadow: 2pt 2pt 4pt #999;\n",
              "  /* unfitted */\n",
              "  background: var(--sklearn-color-unfitted-level-0);\n",
              "  border: .5pt solid var(--sklearn-color-unfitted-level-3);\n",
              "}\n",
              "\n",
              ".sk-estimator-doc-link.fitted span {\n",
              "  /* fitted */\n",
              "  background: var(--sklearn-color-fitted-level-0);\n",
              "  border: var(--sklearn-color-fitted-level-3);\n",
              "}\n",
              "\n",
              ".sk-estimator-doc-link:hover span {\n",
              "  display: block;\n",
              "}\n",
              "\n",
              "/* \"?\"-specific style due to the `<a>` HTML tag */\n",
              "\n",
              "#sk-container-id-1 a.estimator_doc_link {\n",
              "  float: right;\n",
              "  font-size: 1rem;\n",
              "  line-height: 1em;\n",
              "  font-family: monospace;\n",
              "  background-color: var(--sklearn-color-background);\n",
              "  border-radius: 1rem;\n",
              "  height: 1rem;\n",
              "  width: 1rem;\n",
              "  text-decoration: none;\n",
              "  /* unfitted */\n",
              "  color: var(--sklearn-color-unfitted-level-1);\n",
              "  border: var(--sklearn-color-unfitted-level-1) 1pt solid;\n",
              "}\n",
              "\n",
              "#sk-container-id-1 a.estimator_doc_link.fitted {\n",
              "  /* fitted */\n",
              "  border: var(--sklearn-color-fitted-level-1) 1pt solid;\n",
              "  color: var(--sklearn-color-fitted-level-1);\n",
              "}\n",
              "\n",
              "/* On hover */\n",
              "#sk-container-id-1 a.estimator_doc_link:hover {\n",
              "  /* unfitted */\n",
              "  background-color: var(--sklearn-color-unfitted-level-3);\n",
              "  color: var(--sklearn-color-background);\n",
              "  text-decoration: none;\n",
              "}\n",
              "\n",
              "#sk-container-id-1 a.estimator_doc_link.fitted:hover {\n",
              "  /* fitted */\n",
              "  background-color: var(--sklearn-color-fitted-level-3);\n",
              "}\n",
              "</style><div id=\"sk-container-id-1\" class=\"sk-top-container\"><div class=\"sk-text-repr-fallback\"><pre>LatentDirichletAllocation(n_components=8, random_state=0)</pre><b>In a Jupyter environment, please rerun this cell to show the HTML representation or trust the notebook. <br />On GitHub, the HTML representation is unable to render, please try loading this page with nbviewer.org.</b></div><div class=\"sk-container\" hidden><div class=\"sk-item\"><div class=\"sk-estimator fitted sk-toggleable\"><input class=\"sk-toggleable__control sk-hidden--visually\" id=\"sk-estimator-id-1\" type=\"checkbox\" checked><label for=\"sk-estimator-id-1\" class=\"sk-toggleable__label fitted sk-toggleable__label-arrow\"><div><div>LatentDirichletAllocation</div></div><div><a class=\"sk-estimator-doc-link fitted\" rel=\"noreferrer\" target=\"_blank\" href=\"https://scikit-learn.org/1.6/modules/generated/sklearn.decomposition.LatentDirichletAllocation.html\">?<span>Documentation for LatentDirichletAllocation</span></a><span class=\"sk-estimator-doc-link fitted\">i<span>Fitted</span></span></div></label><div class=\"sk-toggleable__content fitted\"><pre>LatentDirichletAllocation(n_components=8, random_state=0)</pre></div> </div></div></div></div>"
            ]
          },
          "metadata": {},
          "execution_count": 5
        }
      ]
    },
    {
      "cell_type": "code",
      "source": [
        "print(lda.components_.shape)\n",
        "lda.components_"
      ],
      "metadata": {
        "colab": {
          "base_uri": "https://localhost:8080/"
        },
        "id": "Q8CaHTjie-50",
        "outputId": "b09ab293-5773-4531-acef-0cfa56460d12"
      },
      "execution_count": null,
      "outputs": [
        {
          "output_type": "stream",
          "name": "stdout",
          "text": [
            "(8, 100)\n"
          ]
        },
        {
          "output_type": "execute_result",
          "data": {
            "text/plain": [
              "array([[5.41235723e+02, 4.19819341e+02, 1.00412490e+03, 8.26124846e+02,\n",
              "        4.91353512e+00, 4.59805499e+01, 4.17485663e-01, 1.20833316e+01,\n",
              "        4.48893150e+00, 1.25037326e-01, 1.16532717e+02, 5.20432680e+01,\n",
              "        1.25098033e-01, 1.25110856e-01, 1.25033053e-01, 3.78815911e+01,\n",
              "        4.73430735e+01, 5.47846367e-01, 9.58358074e+01, 1.41511360e+02,\n",
              "        2.21996541e+00, 1.20452586e+01, 1.25068759e-01, 2.14911815e+01,\n",
              "        1.28727744e-01, 9.17270945e+00, 1.25005602e-01, 1.77274683e+00,\n",
              "        1.25682144e+02, 9.80351004e+00, 4.46102338e+00, 1.25007050e-01,\n",
              "        1.25034750e-01, 1.80724465e+01, 1.57307829e+00, 7.41791075e+00,\n",
              "        1.25014613e-01, 1.71752655e+02, 5.33203835e+01, 1.25064100e-01,\n",
              "        1.01911856e+02, 1.65894752e-01, 1.25037738e-01, 2.79999619e+02,\n",
              "        1.25000001e-01, 3.99979596e+01, 3.46184560e+00, 6.95965505e+01,\n",
              "        9.84659825e+01, 1.87005802e+01, 4.08652934e-01, 2.99597778e+01,\n",
              "        7.40850452e+00, 1.03927061e+02, 2.20563130e+01, 4.01493094e+00,\n",
              "        1.25070474e-01, 4.47083321e+01, 1.33616254e+01, 4.62895136e+02,\n",
              "        3.08271960e+02, 6.02565769e+02, 2.76424795e+01, 1.42468762e+01,\n",
              "        2.66737953e+01, 7.13070375e+00, 2.31763289e+01, 9.24067387e+00,\n",
              "        3.04379201e-01, 4.11431416e+01, 7.40854044e+00, 4.95753361e+02,\n",
              "        1.58024942e+01, 1.25001251e-01, 4.17672319e+01, 1.25044408e-01,\n",
              "        1.69275865e+02, 3.12850579e+01, 6.45792905e-01, 3.62498310e-01,\n",
              "        2.18886903e+00, 4.42046662e+00, 3.79465809e+00, 1.80135078e+02,\n",
              "        8.24099996e+00, 6.86124937e+02, 1.94429031e+02, 4.12548499e+01,\n",
              "        4.00997621e+01, 1.47390005e+01, 5.01341280e+01, 1.25127828e-01,\n",
              "        1.17417654e+01, 5.50651684e+01, 6.74802914e+00, 1.25038910e-01,\n",
              "        4.92836520e+01, 2.97313406e+02, 3.57303301e+02, 3.66689534e+02],\n",
              "       [7.61563444e-01, 7.95414289e-01, 1.25054511e-01, 1.25102592e-01,\n",
              "        1.25111447e-01, 1.69345795e+02, 7.78447252e+02, 7.54806022e+01,\n",
              "        9.92083028e+01, 4.84417387e+01, 2.60765170e+02, 2.78994382e+02,\n",
              "        6.57772857e+02, 1.25072028e-01, 1.25475453e-01, 5.48096569e+02,\n",
              "        2.21733307e+02, 1.25068578e-01, 4.22338428e+02, 8.65004436e+02,\n",
              "        5.49956691e+02, 2.43082735e+02, 1.25020194e-01, 5.41952059e+02,\n",
              "        1.14773869e+02, 9.86290154e+02, 1.25001895e-01, 1.25326485e-01,\n",
              "        4.82167820e+02, 1.25035682e-01, 1.25041327e-01, 1.25010542e-01,\n",
              "        2.74391202e+02, 3.73096226e+02, 2.83359389e+02, 1.44444425e+02,\n",
              "        1.25019724e-01, 2.19998875e+02, 7.24051084e+01, 1.25060280e-01,\n",
              "        6.19721718e+00, 8.45570151e+02, 2.23467327e+02, 4.87250278e+02,\n",
              "        1.25001234e-01, 8.41425433e+02, 1.07198761e+03, 4.08207660e+02,\n",
              "        7.31907858e+02, 8.43010177e-01, 1.52308992e+00, 1.58954730e+02,\n",
              "        2.30590299e+02, 1.61865741e+02, 1.74395176e+02, 1.18276448e+02,\n",
              "        1.61414828e-01, 2.64121243e+02, 1.38920158e+02, 1.97380101e+02,\n",
              "        4.52133706e+01, 1.94548729e+03, 4.26220912e+02, 1.42923669e+02,\n",
              "        1.02578214e+02, 1.25044635e-01, 4.30850340e+02, 1.85902082e+02,\n",
              "        2.74365170e+02, 5.98095152e+02, 4.70830313e+00, 8.85805855e+02,\n",
              "        9.92487957e+02, 1.25008956e-01, 3.13913021e+01, 1.25029349e-01,\n",
              "        6.94361804e+00, 8.87948878e+01, 1.26344262e+02, 1.40392521e-01,\n",
              "        2.28678198e+02, 4.56343491e+02, 9.74661132e+02, 5.77480608e+02,\n",
              "        8.01634606e+01, 1.25019635e-01, 1.10772006e+01, 2.88825820e+00,\n",
              "        1.06052223e+02, 2.07334886e+00, 1.64375589e+02, 1.25069542e-01,\n",
              "        3.71333297e+02, 5.71691569e+02, 2.51654918e+00, 1.25066582e-01,\n",
              "        1.14967982e+02, 3.85218884e+02, 5.21629089e+01, 3.28105452e+02],\n",
              "       [1.09604578e+00, 1.25098511e-01, 1.25003899e-01, 1.25004874e-01,\n",
              "        9.37332595e+01, 6.00640924e+01, 1.29121674e-01, 5.80161831e+01,\n",
              "        2.48225278e+01, 2.84138360e+01, 6.35364501e+01, 6.25747427e+01,\n",
              "        1.25034623e-01, 1.18074428e+00, 4.22689712e-01, 2.38797143e+01,\n",
              "        5.81058611e+00, 1.73515095e+02, 1.25150595e-01, 1.17674178e+00,\n",
              "        1.41394979e-01, 8.72698450e+01, 5.13127487e+01, 9.32497042e+02,\n",
              "        7.80071013e+01, 1.58552493e+02, 1.25020113e-01, 1.36939916e-01,\n",
              "        1.25190631e-01, 2.08556976e-01, 7.60087761e-01, 1.53199309e-01,\n",
              "        1.25024976e-01, 1.83961194e+01, 4.70515295e+01, 2.61215719e+01,\n",
              "        5.41133140e+01, 5.97033939e+01, 6.79970683e+02, 1.25384850e-01,\n",
              "        5.84847178e+02, 1.25044619e-01, 1.25014332e-01, 1.25022552e-01,\n",
              "        1.25003600e-01, 8.27588929e+01, 8.98686867e+02, 8.17320505e+01,\n",
              "        4.67992451e+02, 3.95170572e+01, 1.49547280e-01, 1.77445872e+01,\n",
              "        5.88864763e+01, 1.18778472e+00, 6.18564724e+01, 3.69176925e+01,\n",
              "        2.99196088e+02, 2.90381252e+01, 5.10024135e+02, 8.81864664e+01,\n",
              "        1.06782126e+02, 1.59876037e+00, 7.38084251e+01, 4.09910736e+01,\n",
              "        2.10572260e+02, 2.33787542e+02, 2.24269095e+02, 7.92619714e+01,\n",
              "        6.93054398e+01, 6.39744844e+01, 1.06349872e+02, 1.25092700e-01,\n",
              "        4.86978240e-01, 1.25118304e-01, 8.81589424e+01, 8.52190408e+01,\n",
              "        1.80815039e+02, 1.13741433e+01, 6.45718178e+01, 9.34958144e+02,\n",
              "        2.63964092e+01, 2.16711147e+01, 1.53543671e+00, 7.68996509e+01,\n",
              "        1.08146638e+01, 1.25006730e-01, 1.25118698e-01, 3.94214500e+02,\n",
              "        1.81628643e+02, 3.91206667e+02, 1.12441019e+02, 3.91843114e+01,\n",
              "        2.91889817e+02, 1.76136016e+02, 1.25137901e-01, 1.25083432e-01,\n",
              "        2.31534284e+02, 1.25098651e-01, 1.25092744e-01, 1.25095975e-01],\n",
              "       [7.02277510e+01, 1.72919286e+01, 1.25000535e-01, 1.25000812e-01,\n",
              "        1.47435717e+02, 3.44505298e+01, 3.78550572e+00, 4.44966931e+01,\n",
              "        1.08180565e+02, 4.47948364e+02, 3.60361178e+01, 3.93169268e+01,\n",
              "        1.25019377e-01, 6.16364459e+02, 1.25083683e-01, 1.68509925e+01,\n",
              "        1.25264206e-01, 6.91982852e+01, 9.28086723e-01, 9.27959656e+00,\n",
              "        4.55631852e+00, 1.00289552e+02, 4.35880019e+02, 1.40468691e+02,\n",
              "        3.55105478e+01, 1.53073890e+02, 9.22862030e-01, 3.86850245e+01,\n",
              "        9.75232256e+00, 7.40195150e+02, 5.37536491e+02, 1.01744437e+02,\n",
              "        1.25029925e-01, 8.17338673e+00, 7.80739382e+01, 1.25135848e-01,\n",
              "        1.43287943e+02, 5.15171952e+01, 1.45162891e+01, 1.26414035e+03,\n",
              "        4.41166843e+01, 1.25062499e-01, 1.25005466e-01, 1.25003151e-01,\n",
              "        7.99124940e+02, 3.53380304e+01, 4.73459345e+01, 4.11789431e+01,\n",
              "        8.12346384e+01, 6.33040844e+01, 4.67379508e+00, 8.78033688e+00,\n",
              "        5.15589144e+01, 2.02132487e+00, 6.24665891e+01, 4.33809982e+01,\n",
              "        1.73552680e+01, 7.07219690e+01, 9.30126066e+01, 3.65943756e+01,\n",
              "        8.87054910e+01, 5.65846827e+01, 2.65547426e+01, 4.08919663e+01,\n",
              "        3.34653346e+01, 2.31867882e+02, 1.25088820e-01, 1.40676071e+02,\n",
              "        1.40155612e+01, 3.95906960e+01, 4.21052475e+01, 1.00232298e+01,\n",
              "        1.98008239e+01, 1.25158710e-01, 4.15591562e+01, 2.08648043e+02,\n",
              "        4.89428492e+01, 2.94972120e+00, 1.44667365e+01, 3.64283455e+00,\n",
              "        3.51595166e+01, 1.80719987e+01, 1.25246021e-01, 7.61020385e+01,\n",
              "        8.74670668e+01, 1.25000393e-01, 1.25079111e-01, 2.93408218e+02,\n",
              "        8.59491505e+01, 1.18393232e+02, 3.51783485e+00, 2.56305217e+02,\n",
              "        1.08618629e+02, 3.34776078e+01, 8.64145431e+00, 3.62989419e+01,\n",
              "        8.02355897e+01, 1.22803970e+01, 1.25054551e-01, 3.88994895e+00],\n",
              "       [1.89517969e+02, 1.68530949e+00, 1.25014873e-01, 1.25023134e-01,\n",
              "        3.54707945e+01, 7.02502278e+00, 1.05272142e+02, 3.93266568e+02,\n",
              "        6.70839103e+02, 2.31702202e+02, 1.27338243e+02, 1.32209171e+02,\n",
              "        1.25025525e-01, 1.25059165e-01, 1.15732020e+00, 1.30549364e+02,\n",
              "        3.30560904e+02, 7.30724187e-01, 1.68889018e+02, 2.96762340e+02,\n",
              "        2.06090774e+02, 1.96509477e+02, 1.30679716e-01, 2.49832101e+02,\n",
              "        4.32074904e+02, 1.36818962e+03, 1.25006782e-01, 1.28243499e-01,\n",
              "        1.03518358e+02, 1.25064745e-01, 1.25060228e-01, 1.25030758e-01,\n",
              "        1.25056333e-01, 4.86497423e+02, 1.17332471e+03, 5.57634242e+02,\n",
              "        1.25068976e-01, 5.95728669e+01, 1.45368775e+02, 1.25037815e-01,\n",
              "        1.25098311e-01, 1.25020622e-01, 1.25032134e-01, 1.25016011e-01,\n",
              "        1.25006306e-01, 1.51664419e+03, 5.16857362e+02, 1.67965883e+02,\n",
              "        1.33777185e+03, 2.83573213e+02, 8.80507958e-01, 4.72159506e+02,\n",
              "        5.46890068e+02, 4.52819327e+02, 3.72750426e+02, 4.57606286e+02,\n",
              "        3.85224206e+01, 7.29679647e+02, 3.01604952e+02, 4.30666008e+02,\n",
              "        1.20480081e+02, 1.18834102e+02, 2.60021164e+02, 4.77182892e+02,\n",
              "        5.76014431e+02, 1.40954884e+00, 1.34193118e+02, 2.41796520e+02,\n",
              "        6.40300889e+02, 4.12057448e+02, 4.07609651e+02, 1.56844710e+01,\n",
              "        2.84320009e+02, 2.84082179e-01, 8.97106592e+01, 1.25120400e-01,\n",
              "        3.68218505e-01, 5.13736859e+01, 5.32961004e+02, 2.83398675e-01,\n",
              "        4.13955163e+02, 3.08379515e+02, 9.71687336e+02, 1.07204372e+03,\n",
              "        4.21774975e+02, 1.25011267e-01, 1.25109291e-01, 7.70956282e+02,\n",
              "        6.25511520e+02, 1.84609988e+02, 1.00420051e+03, 7.37203525e-01,\n",
              "        4.48919097e+02, 5.68694138e+02, 1.25099519e-01, 1.25043774e-01,\n",
              "        5.37577612e+02, 1.19642254e+01, 5.76205039e+02, 3.38636839e+02],\n",
              "       [9.52397131e+01, 1.00864891e+02, 1.25001288e-01, 1.25001057e-01,\n",
              "        8.22902435e+02, 3.56317440e+02, 1.26034478e-01, 1.52229654e+01,\n",
              "        5.86779563e-01, 6.85458317e+00, 1.03440684e+02, 9.11444443e+00,\n",
              "        1.25037038e-01, 2.09245144e+01, 1.01217965e+03, 5.41707709e+00,\n",
              "        1.31005838e+01, 6.33593670e+02, 3.08702338e+01, 2.98591216e-01,\n",
              "        1.60258115e+00, 3.67652506e+01, 1.28527573e+02, 1.10708896e+01,\n",
              "        2.09135500e+01, 1.61168643e+01, 1.25088936e-01, 2.05439950e+03,\n",
              "        1.94546609e+00, 2.97492012e+02, 1.95695353e+02, 6.68871070e+02,\n",
              "        1.25059616e-01, 1.82516897e-01, 3.41335450e+01, 1.08851362e+01,\n",
              "        7.48229504e+02, 7.40353586e+01, 1.16155995e+02, 4.61089540e+01,\n",
              "        3.70082783e+02, 4.63871310e+00, 1.65879719e+00, 1.25005919e-01,\n",
              "        1.25026736e-01, 3.59642831e+01, 9.84045616e+00, 3.15961760e+00,\n",
              "        1.23635892e+02, 1.84254535e+02, 1.31769451e+02, 3.20477776e+00,\n",
              "        1.32741266e+01, 8.93604714e+00, 1.33247153e+02, 1.55337766e+00,\n",
              "        4.56843043e+02, 1.99044721e+01, 2.72018021e+01, 2.04068768e+02,\n",
              "        1.55393532e+02, 5.67330562e+01, 6.41892450e+01, 1.09699117e+01,\n",
              "        1.03792877e+01, 2.14217091e+02, 1.45750057e+00, 2.71107914e+01,\n",
              "        1.25128959e-01, 3.06446018e+00, 1.31167711e+02, 1.25209718e-01,\n",
              "        8.16605614e-01, 6.28627567e+02, 1.95891496e+02, 3.13618234e+02,\n",
              "        1.92890403e+02, 2.67877000e+02, 1.51773530e+01, 4.11205025e+00,\n",
              "        1.29205458e-01, 4.76204462e+01, 6.36229555e+00, 9.81196081e+01,\n",
              "        3.94745165e+01, 1.25001840e-01, 5.82851066e+01, 2.81351229e+02,\n",
              "        1.07448789e+02, 1.74206380e+02, 1.83484170e+00, 3.23018764e+02,\n",
              "        2.00247383e+01, 1.50374168e+01, 2.76405750e+01, 1.51968223e+01,\n",
              "        6.31958667e+01, 7.37318330e+01, 3.26926241e-01, 4.30293425e+00],\n",
              "       [1.42966766e+01, 2.99849976e+00, 1.25020103e-01, 1.25016447e-01,\n",
              "        2.95332129e+01, 2.26771937e+01, 1.25081638e-01, 1.74424061e+00,\n",
              "        1.58559784e+00, 6.39424306e+00, 2.28121311e-01, 1.25161116e-01,\n",
              "        1.25017868e-01, 5.05633974e+01, 1.99264155e+01, 8.56359019e+00,\n",
              "        6.55092224e+00, 1.37200233e-01, 2.78948414e+01, 1.81683043e-01,\n",
              "        1.25068878e-01, 3.74312344e+00, 4.74203483e+01, 1.25121410e-01,\n",
              "        3.01123221e-01, 2.06640543e-01, 6.83327011e+02, 6.27089693e-01,\n",
              "        1.25136739e-01, 1.24072048e+01, 2.04444214e+01, 3.37306442e+01,\n",
              "        1.25027447e-01, 1.25798940e-01, 1.26584893e-01, 9.91630493e+00,\n",
              "        9.58690938e+01, 2.83886104e+01, 7.34966525e+00, 1.25058453e-01,\n",
              "        1.41717581e+01, 1.25061411e-01, 1.25005231e-01, 1.25015483e-01,\n",
              "        1.25021229e-01, 6.75292265e-01, 3.20769718e+00, 3.48884632e-01,\n",
              "        1.29980788e+01, 2.06043717e+01, 5.67265139e+02, 2.31588108e+00,\n",
              "        6.47326998e+00, 1.25923616e-01, 2.92364679e+01, 1.25110037e-01,\n",
              "        4.04526028e+01, 1.25303474e-01, 8.68052460e+00, 4.48719989e+01,\n",
              "        9.98714229e+00, 6.43282306e+00, 1.11646481e+00, 1.29866768e-01,\n",
              "        2.54312436e+00, 2.25263967e+01, 3.78357750e+00, 1.25147076e-01,\n",
              "        1.25121218e-01, 1.25150610e-01, 6.99237048e+01, 1.25116092e-01,\n",
              "        1.25096137e-01, 1.36101020e+02, 1.01002590e+01, 2.58014418e+02,\n",
              "        1.55053314e-01, 3.84943867e-01, 1.25095802e-01, 2.86071138e-01,\n",
              "        1.25584219e-01, 1.25109234e-01, 1.52718541e-01, 1.43424181e+01,\n",
              "        1.47721937e-01, 1.25022320e-01, 3.93599696e+02, 2.57079476e+01,\n",
              "        8.53806978e+00, 1.77467368e+01, 4.68028275e+01, 2.02823178e+02,\n",
              "        2.10758746e+00, 4.48732905e+00, 1.65659579e+02, 7.06849923e+02,\n",
              "        7.44951155e+00, 3.40085247e-01, 1.59825066e+00, 1.25076691e-01],\n",
              "       [1.20624559e+02, 1.23419517e+02, 1.25003593e-01, 1.25004666e-01,\n",
              "        9.88593543e+00, 2.61393761e+01, 6.46973767e+01, 6.76894155e+01,\n",
              "        1.22881928e+01, 1.01199955e+01, 2.91224970e+01, 1.55621905e+02,\n",
              "        6.47691079e+00, 5.91642884e-01, 2.09383326e+01, 1.47611023e+01,\n",
              "        5.37753594e+01, 1.52110447e-01, 6.01184345e+01, 4.47852517e+01,\n",
              "        3.07206859e-01, 6.32947584e+01, 6.54785422e+01, 1.71562914e+02,\n",
              "        8.62901760e+01, 3.73976235e+01, 1.25003624e-01, 1.25125161e-01,\n",
              "        2.66835621e+01, 4.45643466e+02, 2.28525224e+01, 1.25600405e-01,\n",
              "        1.76385856e+03, 1.45608330e+00, 7.23572229e+01, 2.45527313e+00,\n",
              "        1.25041590e-01, 1.03104445e+00, 6.91310098e+00, 1.25085839e-01,\n",
              "        6.95474243e+01, 1.25051904e-01, 4.65248781e+02, 1.25040007e-01,\n",
              "        1.25000470e-01, 2.81959171e+01, 1.46122263e+01, 2.08104108e+01,\n",
              "        3.79932452e+01, 2.04203149e+02, 2.23298172e+01, 2.88040383e+00,\n",
              "        9.18340799e-01, 7.51167899e+01, 6.29914020e+01, 1.25157202e-01,\n",
              "        2.34409138e+00, 2.01700909e+02, 1.33194196e+02, 1.09337146e+02,\n",
              "        1.73166296e+02, 4.77635187e+01, 6.34465672e+01, 1.76637449e+01,\n",
              "        1.17773554e+02, 4.39935791e+02, 1.51449512e+01, 2.55886744e+02,\n",
              "        2.45831085e+00, 2.09494670e+01, 1.77269704e+01, 3.35766558e+00,\n",
              "        5.01600355e+01, 4.87043302e-01, 3.04420953e+02, 1.25069694e-01,\n",
              "        1.32608954e+02, 2.51960560e+02, 8.67079387e+01, 2.14610535e-01,\n",
              "        8.36705412e+00, 7.13678580e+01, 3.68117712e+00, 1.21876875e+02,\n",
              "        4.49165954e+01, 1.25001001e-01, 2.33657948e-01, 5.37218714e+02,\n",
              "        1.31771843e+02, 1.31024648e+02, 7.69325262e+00, 2.36811289e+01,\n",
              "        6.33650693e+01, 1.38410755e+02, 7.14543576e+02, 1.54079930e-01,\n",
              "        1.20755502e+02, 2.80260708e+01, 8.51534263e+01, 1.25117869e-01]])"
            ]
          },
          "metadata": {},
          "execution_count": 6
        }
      ]
    },
    {
      "cell_type": "code",
      "source": [
        "def display_topics(model, feature_names, no_top_words):\n",
        "  for topic_index, topic in enumerate(model.components_):\n",
        "    print('Topic #', topic_index)\n",
        "\n",
        "    # components_array에서 가장 값이 큰 순으로 정렬했을 때, 그값의 array 인덱스를 반환.\n",
        "    topic_word_indexes = topic.argsort()[::-1]\n",
        "    top_indexes = topic_word_indexes[:no_top_words]\n",
        "\n",
        "    # top_indexes 대상인 인덱스별로 feature_names에 해당하는 word feature 추출 후 join으로 concat\n",
        "    feature_concat = ' '.join([feature_names[i] for i in top_indexes])\n",
        "    print(feature_concat)\n",
        "\n",
        "# CountVectorizer 객체 내의 전체 word의 면칭을 get_features_names()를 통해 추출\n",
        "feature_names = count_vect.get_feature_names_out()\n",
        "\n",
        "# 토픽별 가장 연관도가 높은 word를 15개만 추출\n",
        "display_topics(lda, feature_names, 15)"
      ],
      "metadata": {
        "colab": {
          "base_uri": "https://localhost:8080/"
        },
        "id": "1mp2g5AufCdi",
        "outputId": "8e2b3c62-4a41-44fe-be1f-38091fb72c31"
      },
      "execution_count": null,
      "outputs": [
        {
          "output_type": "stream",
          "name": "stdout",
          "text": [
            "Topic # 0\n",
            "armenian armenians turkish people 10 said new 12 years year number world jews university time\n",
            "Topic # 1\n",
            "people know say don think said did israel just believe like church right time way\n",
            "Topic # 2\n",
            "thanks does know help information need like use using mail want program work question problem\n",
            "Topic # 3\n",
            "image jpeg file color files bit display use version program software don available graphics read\n",
            "Topic # 4\n",
            "just don like good time ve think use make better really used year problem way\n",
            "Topic # 5\n",
            "edu com available graphics ftp data server mail information based version software file use subject\n",
            "Topic # 6\n",
            "windows dos list university software version window server graphics run color display ve new mail\n",
            "Topic # 7\n",
            "god window use jesus file program set read subject line make number does case way\n"
          ]
        }
      ]
    },
    {
      "cell_type": "markdown",
      "source": [
        "### **08. 문서 유사도**\n",
        "\n",
        "(1) 문서 유사도 측정 방법 - 코사인 유사도\n",
        "\n",
        "- 문서와 문서 간의 유사도 측정에 사용. 벡터와 벡터간의 유사도 비교에서 벡터의 크기보다 벡터의 상호방향성의 유사성에 기반함. 즉, 두 벡터의 사잇각으로 유사성을 수치로 적용\n",
        "\n",
        "\n",
        "(2)  두 벡터 사잇값\n",
        "\n",
        "![image.png](data:image/png;base64,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)\n"
      ],
      "metadata": {
        "id": "MUwv-Rs7jMiX"
      }
    },
    {
      "cell_type": "markdown",
      "source": [
        "사잇값에 따라 상호관계는 위와 같음\n",
        "\n",
        "- 두 벡터 A와 B의 코사인 값: $A*B = ||A||||B|| * cosθ$\n",
        "- 유사도 similarity = cosθ: 두 벡터의 내적을 총 벡터 크기의 합으로 나눈 것\n",
        "  ![image.png](data:image/png;base64,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)\n",
        "\n",
        "- 문서를 피처 벡터화 변환하면 차원이 매우 많은 희소 행렬이 되기 쉬움. 희소 행렬 기반에서 문서와 문서 벡터 간의 크기에 기반한 유사도 지표는 정확도가 떨어지기 쉽고 빈도수에만 기반해서는 공정한 비교가 어려움(빈도가 많다고 밀접한 문서는 아님)\n",
        "\n",
        "- 문서의 유사도를 비교하기 위해 문서를 TF-IDF로 벡터화된 행렬로 변환, 반환된 희소행렬을 밀집 행렬로 변환한 뒤 각각을 다시 배열로 변환. 만든 함수로 문서 유사도 측정\n",
        "  - 문장 별 유사도 측정\n",
        "  - 사이킷런의 sklearn. metrics. pairwise. cosine_similarity API로 코사인 유사도 측정가능: 파라미터는 기준 문서의 피처 행렬, 비교되는 문서의 피처 행렬\n",
        "    - cosine_similarity()는 희소, 밀집 행렬이 모두 가능함. 행렬/배열 모두 가능함. 별도의 변환작업 필요없음\n",
        "    - 쌍으로 코사인 유사도 값을 제공할 수 있음."
      ],
      "metadata": {
        "id": "AcSGgL_-i1re"
      }
    },
    {
      "cell_type": "markdown",
      "source": [
        "(3) Opinion Review 데이터 세트를 이용한 문서 유사도 측정\n",
        "\n",
        "- 호텔을 주제로 군집화된 문서를 이용해 특정 문서와 다른 문서간의 유사도를 알아보는 실습\n",
        "- 각 문서가 피처 벡터화된 데이터를 cosine_simularity()로 상호비교해 유사도 확인\n",
        "- 유사도가 높은 순으로 정렬하고 시각화하면 간결하게 확인가능"
      ],
      "metadata": {
        "id": "lz-ZqSOwoI6u"
      }
    },
    {
      "cell_type": "code",
      "source": [
        "import numpy as np\n",
        "\n",
        "def cos_similarity(v1, v2):\n",
        "  dot_product = np.dot(v1, v2)\n",
        "  l2_norm = (np.sqrt(sum(np.square(v1)))) * np.sqrt(sum(np.square(v2)))\n",
        "  similarity = dot_product / l2_norm\n",
        "\n",
        "  return similarity"
      ],
      "metadata": {
        "id": "rKw14YEwiq9q"
      },
      "execution_count": null,
      "outputs": []
    },
    {
      "cell_type": "code",
      "source": [
        "from sklearn.feature_extraction.text import TfidfVectorizer\n",
        "\n",
        "doc_list = ['if you take the blue pill, the story ends',\n",
        "            'if you take thr red pill, you stay in Wonderland',\n",
        "            'if you take the red pill, I show you how deep the rabbit hole goes']\n",
        "\n",
        "tfidf_vect_simple = TfidfVectorizer()\n",
        "feature_vect_simple = tfidf_vect_simple.fit_transform(doc_list)\n",
        "print(feature_vect_simple.shape)"
      ],
      "metadata": {
        "colab": {
          "base_uri": "https://localhost:8080/"
        },
        "id": "HVr4pbEWl-80",
        "outputId": "7d9a49b1-3afa-438e-ee79-6dc9043de4a9"
      },
      "execution_count": null,
      "outputs": [
        {
          "output_type": "stream",
          "name": "stdout",
          "text": [
            "(3, 19)\n"
          ]
        }
      ]
    },
    {
      "cell_type": "code",
      "source": [
        "# TfidfVectorizer로 transform()한 결과는 희소 행렬이므로 밀집 행렬로 변환\n",
        "feature_vect_dense = feature_vect_simple.todense()\n",
        "\n",
        "# 첫번째 문장과 두 번째 문장의 피처 벡터 추출\n",
        "vect1 = np.array(feature_vect_dense[0]).reshape(-1, )\n",
        "vect2 = np.array(feature_vect_dense[1]).reshape(-1, )\n",
        "\n",
        "# 첫번째 문장과 두 번째 문장의 피처 벡터로 두 개 문장의 코사인 유사도 추출\n",
        "similarity_simple = cos_similarity(vect1, vect2)\n",
        "print('문장1, 문장 2 Cosine 유사도: {0:.3f}'.format(similarity_simple))"
      ],
      "metadata": {
        "colab": {
          "base_uri": "https://localhost:8080/"
        },
        "id": "DtupTuy2nJqj",
        "outputId": "51307f1d-2ebd-4f2d-f9ff-97daf3585cd8"
      },
      "execution_count": null,
      "outputs": [
        {
          "output_type": "stream",
          "name": "stdout",
          "text": [
            "문장1, 문장 2 Cosine 유사도: 0.254\n"
          ]
        }
      ]
    },
    {
      "cell_type": "code",
      "source": [
        "vect1 = np.array(feature_vect_dense[0]).reshape(-1, )\n",
        "vect3 = np.array(feature_vect_dense[2]).reshape(-1, )\n",
        "similarity_simple = cos_similarity(vect1, vect3)\n",
        "print('문장1, 문장 3 Cosine 유사도: {0:.3f}'.format(similarity_simple))\n",
        "\n",
        "vect2 = np.array(feature_vect_dense[1]).reshape(-1, )\n",
        "vect3 = np.array(feature_vect_dense[2]).reshape(-1, )\n",
        "similarity_simple = cos_similarity(vect2, vect3)\n",
        "print('문장2, 문장 3 Cosine 유사도: {0:.3f}'.format(similarity_simple))"
      ],
      "metadata": {
        "colab": {
          "base_uri": "https://localhost:8080/"
        },
        "id": "CWVvn8vbn0Zi",
        "outputId": "96d9535f-9da9-4ecb-a722-c94c92c68798"
      },
      "execution_count": null,
      "outputs": [
        {
          "output_type": "stream",
          "name": "stdout",
          "text": [
            "문장1, 문장 3 Cosine 유사도: 0.465\n",
            "문장2, 문장 3 Cosine 유사도: 0.339\n"
          ]
        }
      ]
    },
    {
      "cell_type": "code",
      "source": [
        "from sklearn.metrics.pairwise import cosine_similarity\n",
        "\n",
        "similarity_simple_pair = cosine_similarity(feature_vect_simple[0], feature_vect_simple)\n",
        "print(similarity_simple_pair)"
      ],
      "metadata": {
        "colab": {
          "base_uri": "https://localhost:8080/"
        },
        "id": "mq5ebbL3oGC3",
        "outputId": "79fefc29-b4f2-493d-b440-7874ebaab465"
      },
      "execution_count": null,
      "outputs": [
        {
          "output_type": "stream",
          "name": "stdout",
          "text": [
            "[[1.         0.25414421 0.4653398 ]]\n"
          ]
        }
      ]
    },
    {
      "cell_type": "code",
      "source": [
        "from sklearn.metrics.pairwise import cosine_similarity\n",
        "\n",
        "similarity_simple_pair = cosine_similarity(feature_vect_simple[0], feature_vect_simple[1:])\n",
        "print(similarity_simple_pair)"
      ],
      "metadata": {
        "colab": {
          "base_uri": "https://localhost:8080/"
        },
        "id": "iXYQ45dSoUeA",
        "outputId": "60807039-5908-44ac-edf9-5848e188c5b3"
      },
      "execution_count": null,
      "outputs": [
        {
          "output_type": "stream",
          "name": "stdout",
          "text": [
            "[[0.25414421 0.4653398 ]]\n"
          ]
        }
      ]
    },
    {
      "cell_type": "code",
      "source": [
        "similarity_simple_pair = cosine_similarity(feature_vect_simple, feature_vect_simple)\n",
        "print(similarity_simple_pair)\n",
        "print('shape:', similarity_simple_pair.shape)"
      ],
      "metadata": {
        "colab": {
          "base_uri": "https://localhost:8080/"
        },
        "id": "aTja0RrQogL8",
        "outputId": "64a0c4ae-e2b2-4da4-d884-1022b89fbbfb"
      },
      "execution_count": null,
      "outputs": [
        {
          "output_type": "stream",
          "name": "stdout",
          "text": [
            "[[1.         0.25414421 0.4653398 ]\n",
            " [0.25414421 1.         0.33858866]\n",
            " [0.4653398  0.33858866 1.        ]]\n",
            "shape: (3, 3)\n"
          ]
        }
      ]
    },
    {
      "cell_type": "markdown",
      "source": [
        "- Opinion Review 데이터 세트를 이용한 문서 유사도 측정"
      ],
      "metadata": {
        "id": "W2TuiamhsKS1"
      }
    },
    {
      "cell_type": "code",
      "source": [
        "!pip install nltk\n",
        "import nltk\n",
        "from nltk.tokenize import word_tokenize\n",
        "from nltk.stem import WordNetLemmatizer\n",
        "from google.colab import drive\n",
        "drive.mount('/content/drive')\n",
        "\n",
        "nltk.download('punkt')\n",
        "nltk.download('wordnet')\n",
        "\n",
        "def LemNormalize(text):\n",
        "  lemmatizer = WordNetLemmatizer()\n",
        "  return [lemmatizer.lemmatize(token) for token in word_tokenize(text)]"
      ],
      "metadata": {
        "colab": {
          "base_uri": "https://localhost:8080/"
        },
        "id": "Pluy0Z5bmqh-",
        "outputId": "3c9ffc0d-e4d1-42fe-b749-50d40dcfae5b"
      },
      "execution_count": null,
      "outputs": [
        {
          "output_type": "stream",
          "name": "stdout",
          "text": [
            "Requirement already satisfied: nltk in /usr/local/lib/python3.11/dist-packages (3.9.1)\n",
            "Requirement already satisfied: click in /usr/local/lib/python3.11/dist-packages (from nltk) (8.1.8)\n",
            "Requirement already satisfied: joblib in /usr/local/lib/python3.11/dist-packages (from nltk) (1.4.2)\n",
            "Requirement already satisfied: regex>=2021.8.3 in /usr/local/lib/python3.11/dist-packages (from nltk) (2024.11.6)\n",
            "Requirement already satisfied: tqdm in /usr/local/lib/python3.11/dist-packages (from nltk) (4.67.1)\n",
            "Drive already mounted at /content/drive; to attempt to forcibly remount, call drive.mount(\"/content/drive\", force_remount=True).\n"
          ]
        },
        {
          "output_type": "stream",
          "name": "stderr",
          "text": [
            "[nltk_data] Downloading package punkt to /root/nltk_data...\n",
            "[nltk_data]   Unzipping tokenizers/punkt.zip.\n",
            "[nltk_data] Downloading package wordnet to /root/nltk_data...\n",
            "[nltk_data]   Package wordnet is already up-to-date!\n"
          ]
        },
        {
          "output_type": "execute_result",
          "data": {
            "text/plain": [
              "True"
            ]
          },
          "metadata": {},
          "execution_count": 12
        }
      ]
    },
    {
      "cell_type": "code",
      "source": [
        "# Opinion Review 데이터 세트를 이용한 문서 유사도 측정\n",
        "import pandas as pd\n",
        "import glob, os\n",
        "from sklearn.feature_extraction.text import TfidfVectorizer\n",
        "from sklearn.cluster import KMeans\n",
        "\n",
        "\n",
        "\n",
        "path = '/content/drive/MyDrive/ESAA/OB 과제/opinosis+opinion+frasl+review/OpinosisDataset1.0/topics'\n",
        "all_files = glob.glob(os.path.join(path, \"*.data\"))\n",
        "filename_list = []\n",
        "opinion_text = []\n",
        "\n",
        "for file_ in all_files:\n",
        "  df = pd.read_table(file_, index_col=None, header=0, encoding='latin1')\n",
        "  filename_ = file_.split('/')[-1]\n",
        "  filename = filename_.split('.')[0]\n",
        "  filename_list.append(filename)\n",
        "  opinion_text.append(df.to_string())\n",
        "\n",
        "document_df = pd.DataFrame({'filename':filename_list, 'opinion_text':opinion_text})\n",
        "tfidf_vect = TfidfVectorizer(tokenizer=LemNormalize, stop_words='english',\n",
        "                             ngram_range=(1,2), min_df=0.05, max_df=0.85 )\n",
        "feature_vect = tfidf_vect.fit_transform(document_df['opinion_text'])\n",
        "\n",
        "km_cluster = KMeans(n_clusters=3, max_iter=10000, random_state=0)\n",
        "km_cluster.fit(feature_vect)\n",
        "cluster_label = km_cluster.labels_\n",
        "cluster_centers = km_cluster.cluster_centers_\n",
        "document_df['cluster_label'] = cluster_label"
      ],
      "metadata": {
        "colab": {
          "base_uri": "https://localhost:8080/"
        },
        "id": "5EJ1ArqiomM_",
        "outputId": "77755d8e-13c3-4d66-d904-943536cb1bac"
      },
      "execution_count": null,
      "outputs": [
        {
          "output_type": "stream",
          "name": "stderr",
          "text": [
            "/usr/local/lib/python3.11/dist-packages/sklearn/feature_extraction/text.py:517: UserWarning: The parameter 'token_pattern' will not be used since 'tokenizer' is not None'\n",
            "  warnings.warn(\n",
            "/usr/local/lib/python3.11/dist-packages/sklearn/feature_extraction/text.py:402: UserWarning: Your stop_words may be inconsistent with your preprocessing. Tokenizing the stop words generated tokens ['ha', 'u', 'wa'] not in stop_words.\n",
            "  warnings.warn(\n"
          ]
        }
      ]
    },
    {
      "cell_type": "code",
      "source": [
        "from sklearn.metrics.pairwise import cosine_similarity\n",
        "\n",
        "# cluster_label=2인 데이터는 호텔로 군집화된 데이터임. DataFrame에서 해당 인덱스를 추출\n",
        "hotel_indexes = document_df[document_df['cluster_label']==2].index\n",
        "print('호텔로 클러스터링 된 문서들의 DataFrame Index:', hotel_indexes)\n",
        "\n",
        "# 호텔로 군집화된 데이터 중 첫번째 문서를 추출해 파일명 표시.\n",
        "comparison_docname = document_df.iloc[hotel_indexes[0]]['filename']\n",
        "print('##### 비교 기준 문서명', comparison_docname, '와 타 문서 유사도 #####')\n",
        "\n",
        "'''document_df에서 추출한 Index 객체를 feature_vect로 입력해 호텔 군집화된 feature_vect 추출\n",
        "이를 이용해 호텔로 군집화된 문서 중 첫번째 문서와 다른 문서 간의 코사인 유사도 측정'''\n",
        "\n",
        "similarity_pair = cosine_similarity(feature_vect[hotel_indexes[0]], feature_vect[hotel_indexes])\n",
        "print(similarity_pair)"
      ],
      "metadata": {
        "colab": {
          "base_uri": "https://localhost:8080/"
        },
        "id": "Kl7pqp04qVzN",
        "outputId": "c45557cf-8eb7-46ef-9dac-6cc5e8ad7f6c"
      },
      "execution_count": null,
      "outputs": [
        {
          "output_type": "stream",
          "name": "stdout",
          "text": [
            "호텔로 클러스터링 된 문서들의 DataFrame Index: Index([9, 10, 17, 20, 21, 22, 26, 34, 36, 48], dtype='int64')\n",
            "##### 비교 기준 문서명 comfort_honda_accord_2008 와 타 문서 유사도 #####\n",
            "[[1.         0.80785813 0.23215607 0.30507128 0.26618808 0.14396506\n",
            "  0.15666297 0.16004019 0.65953338 0.06754912]]\n"
          ]
        }
      ]
    },
    {
      "cell_type": "code",
      "source": [
        "import seaborn as sns\n",
        "import numpy as np\n",
        "import matplotlib.pyplot as plt\n",
        "%matplotlib inline\n",
        "\n",
        "# 첫번째 문서와 타 문서간 유사도가 큰 순으로 정렬한 인덱스 추출하되 자기 자신은 제외.\n",
        "sorted_index = similarity_pair.argsort()[:,::-1]\n",
        "sorted_index = sorted_index[:,1:]\n",
        "\n",
        "# 유사도가 큰 순으로 hotel_indexes를 추출하여 재정렬.\n",
        "hotel_sorted_indexes = hotel_indexes[sorted_index.reshape(-1)]\n",
        "\n",
        "# 유사도가 큰 순으로 유사도 값을 재정렬하되 자기 자신은 제외\n",
        "hotel_1_sim_value = np.sort(similarity_pair.reshape(-1))[::-1]\n",
        "hotel_1_sim_value = hotel_1_sim_value[1:]\n",
        "\n",
        "# 유사도가 큰 순으로 정렬된 인덱스와 유사도 값을 이용해 파일명과 유사도값을 막대 그래프로 시각화\n",
        "hotel_1_sim_df = pd.DataFrame()\n",
        "hotel_1_sim_df['filename'] = document_df.iloc[hotel_sorted_indexes]['filename']\n",
        "hotel_1_sim_df['similarity'] = hotel_1_sim_value\n",
        "print('가장 유사도가 큰 파일명 및 유사도:\\n', hotel_1_sim_df.iloc[0,:])\n",
        "\n",
        "sns.barplot(x='similarity', y='filename', data=hotel_1_sim_df)\n",
        "plt.title(comparison_docname)"
      ],
      "metadata": {
        "colab": {
          "base_uri": "https://localhost:8080/",
          "height": 559
        },
        "id": "F7qdG1_QtnhW",
        "outputId": "bc5d5333-8648-4c76-b936-0d6e9fb5d68a"
      },
      "execution_count": null,
      "outputs": [
        {
          "output_type": "stream",
          "name": "stdout",
          "text": [
            "가장 유사도가 큰 파일명 및 유사도:\n",
            " filename      comfort_toyota_camry_2007\n",
            "similarity                     0.807858\n",
            "Name: 10, dtype: object\n"
          ]
        },
        {
          "output_type": "execute_result",
          "data": {
            "text/plain": [
              "Text(0.5, 1.0, 'comfort_honda_accord_2008')"
            ]
          },
          "metadata": {},
          "execution_count": 18
        },
        {
          "output_type": "display_data",
          "data": {
            "text/plain": [
              "<Figure size 640x480 with 1 Axes>"
            ],
            "image/png": "[encoded data removed]"
          },
          "metadata": {}
        }
      ]
    },
    {
      "cell_type": "markdown",
      "source": [
        "### **09. 한글 텍스트 처리 - 네이버 영화 평점 감성 분석**\n",
        "\n",
        "(1) 한글 NLP 처리의 어려움\n",
        "\n",
        "띄어쓰기와 다양한 조사 때문에 의미가 왜곡될 수 있어 한글 언어 처리가 어려움. 조사는 경우의 수가 많아 어근 추출의 전처리 시 제거가 까다로움.\n",
        "\n",
        "(2) KoNLPy소개\n",
        "\n",
        "파이썬의 대표적인 한글 형태소 패키지\n",
        "  - 형태소: 단어로서 의미를 가지는 최소 단위\n",
        "  - 형태소 분석: 말뭉치를 이러한 형태소 어근 단위로 쪼개고 각 형태소에 품사 태깅을 부착하는 작업\n",
        "\n",
        "- 사용을 위해서는 Java 클래스와 별도의 모듈인 Jpype1가 필요함.\n",
        "\n",
        "(2) 데이터 로딩\n",
        "\n",
        "0과 1 비율이 어느 한 쪽으로 치우치지 않고 균등한 분포를 나타냄.\n",
        "\n",
        "- Null은 공백으로 변환. 문자가 아닌 숫자의 경우 단어적인 의미로 부족하므로 공백으로 변환.\n",
        "- TF-IDF 단어 벡터화. 각 문장을 한글 형태소 분석으로 형태소 단어로 토큰화함.\n",
        "  - 한글 형태소 엔진은 SNS 분석에 적합한 Twitter 클래스 이용\n",
        "  - morphs()이용시 입력 인자로 들어온 문장을 형태소 형태로 토큼화해 list 객체로 반환\n",
        "- 로지스틱 회귀를 이용해 분류 기반의 감성 분석 수행\n",
        "- GridSearchCV를 이용해 하이퍼 파라미터 C 최적화\n",
        "- 테스트 세트를 이용해 최종 감성 분석예측 수행. 학습 시 적용한 TfidfVectorizer 그대로 사용해 transform() 함에 유의.(변환 피처 개수 같아야함)\n"
      ],
      "metadata": {
        "id": "Z-zdxA8wotjr"
      }
    },
    {
      "cell_type": "code",
      "source": [
        "!pip install konlpy"
      ],
      "metadata": {
        "colab": {
          "base_uri": "https://localhost:8080/"
        },
        "id": "Tef0ExxKzBKn",
        "outputId": "5b7eb4d9-69aa-4ebb-fc59-6362cf87ecb5"
      },
      "execution_count": null,
      "outputs": [
        {
          "output_type": "stream",
          "name": "stdout",
          "text": [
            "Collecting konlpy\n",
            "  Downloading konlpy-0.6.0-py2.py3-none-any.whl.metadata (1.9 kB)\n",
            "Collecting JPype1>=0.7.0 (from konlpy)\n",
            "  Downloading jpype1-1.5.2-cp311-cp311-manylinux_2_17_x86_64.manylinux2014_x86_64.whl.metadata (4.9 kB)\n",
            "Requirement already satisfied: lxml>=4.1.0 in /usr/local/lib/python3.11/dist-packages (from konlpy) (5.3.1)\n",
            "Requirement already satisfied: numpy>=1.6 in /usr/local/lib/python3.11/dist-packages (from konlpy) (2.0.2)\n",
            "Requirement already satisfied: packaging in /usr/local/lib/python3.11/dist-packages (from JPype1>=0.7.0->konlpy) (24.2)\n",
            "Downloading konlpy-0.6.0-py2.py3-none-any.whl (19.4 MB)\n",
            "\u001b[2K   \u001b[90m━━━━━━━━━━━━━━━━━━━━━━━━━━━━━━━━━━━━━━━━\u001b[0m \u001b[32m19.4/19.4 MB\u001b[0m \u001b[31m46.2 MB/s\u001b[0m eta \u001b[36m0:00:00\u001b[0m\n",
            "\u001b[?25hDownloading jpype1-1.5.2-cp311-cp311-manylinux_2_17_x86_64.manylinux2014_x86_64.whl (494 kB)\n",
            "\u001b[2K   \u001b[90m━━━━━━━━━━━━━━━━━━━━━━━━━━━━━━━━━━━━━━━━\u001b[0m \u001b[32m494.1/494.1 kB\u001b[0m \u001b[31m16.7 MB/s\u001b[0m eta \u001b[36m0:00:00\u001b[0m\n",
            "\u001b[?25hInstalling collected packages: JPype1, konlpy\n",
            "Successfully installed JPype1-1.5.2 konlpy-0.6.0\n"
          ]
        }
      ]
    },
    {
      "cell_type": "code",
      "source": [
        "import pandas as pd\n",
        "\n",
        "train_df = pd.read_csv('/content/drive/MyDrive/ESAA/OB 과제/ratings_train.txt', sep='\\t', encoding='utf-8')\n",
        "train_df.head(3)"
      ],
      "metadata": {
        "colab": {
          "base_uri": "https://localhost:8080/",
          "height": 143
        },
        "id": "htkOzsZKoxSP",
        "outputId": "0021446e-7f66-4f28-e18d-e34961196482"
      },
      "execution_count": null,
      "outputs": [
        {
          "output_type": "execute_result",
          "data": {
            "text/plain": [
              "         id                           document  label\n",
              "0   9976970                아 더빙.. 진짜 짜증나네요 목소리      0\n",
              "1   3819312  흠...포스터보고 초딩영화줄....오버연기조차 가볍지 않구나      1\n",
              "2  10265843                  너무재밓었다그래서보는것을추천한다      0"
            ],
            "text/html": [
              "\n",
              "  <div id=\"df-15e765e7-a17e-4580-9943-fb85dc8fa2b4\" class=\"colab-df-container\">\n",
              "    <div>\n",
              "<style scoped>\n",
              "    .dataframe tbody tr th:only-of-type {\n",
              "        vertical-align: middle;\n",
              "    }\n",
              "\n",
              "    .dataframe tbody tr th {\n",
              "        vertical-align: top;\n",
              "    }\n",
              "\n",
              "    .dataframe thead th {\n",
              "        text-align: right;\n",
              "    }\n",
              "</style>\n",
              "<table border=\"1\" class=\"dataframe\">\n",
              "  <thead>\n",
              "    <tr style=\"text-align: right;\">\n",
              "      <th></th>\n",
              "      <th>id</th>\n",
              "      <th>document</th>\n",
              "      <th>label</th>\n",
              "    </tr>\n",
              "  </thead>\n",
              "  <tbody>\n",
              "    <tr>\n",
              "      <th>0</th>\n",
              "      <td>9976970</td>\n",
              "      <td>아 더빙.. 진짜 짜증나네요 목소리</td>\n",
              "      <td>0</td>\n",
              "    </tr>\n",
              "    <tr>\n",
              "      <th>1</th>\n",
              "      <td>3819312</td>\n",
              "      <td>흠...포스터보고 초딩영화줄....오버연기조차 가볍지 않구나</td>\n",
              "      <td>1</td>\n",
              "    </tr>\n",
              "    <tr>\n",
              "      <th>2</th>\n",
              "      <td>10265843</td>\n",
              "      <td>너무재밓었다그래서보는것을추천한다</td>\n",
              "      <td>0</td>\n",
              "    </tr>\n",
              "  </tbody>\n",
              "</table>\n",
              "</div>\n",
              "    <div class=\"colab-df-buttons\">\n",
              "\n",
              "  <div class=\"colab-df-container\">\n",
              "    <button class=\"colab-df-convert\" onclick=\"convertToInteractive('df-15e765e7-a17e-4580-9943-fb85dc8fa2b4')\"\n",
              "            title=\"Convert this dataframe to an interactive table.\"\n",
              "            style=\"display:none;\">\n",
              "\n",
              "  <svg xmlns=\"http://www.w3.org/2000/svg\" height=\"24px\" viewBox=\"0 -960 960 960\">\n",
              "    <path d=\"M120-120v-720h720v720H120Zm60-500h600v-160H180v160Zm220 220h160v-160H400v160Zm0 220h160v-160H400v160ZM180-400h160v-160H180v160Zm440 0h160v-160H620v160ZM180-180h160v-160H180v160Zm440 0h160v-160H620v160Z\"/>\n",
              "  </svg>\n",
              "    </button>\n",
              "\n",
              "  <style>\n",
              "    .colab-df-container {\n",
              "      display:flex;\n",
              "      gap: 12px;\n",
              "    }\n",
              "\n",
              "    .colab-df-convert {\n",
              "      background-color: #E8F0FE;\n",
              "      border: none;\n",
              "      border-radius: 50%;\n",
              "      cursor: pointer;\n",
              "      display: none;\n",
              "      fill: #1967D2;\n",
              "      height: 32px;\n",
              "      padding: 0 0 0 0;\n",
              "      width: 32px;\n",
              "    }\n",
              "\n",
              "    .colab-df-convert:hover {\n",
              "      background-color: #E2EBFA;\n",
              "      box-shadow: 0px 1px 2px rgba(60, 64, 67, 0.3), 0px 1px 3px 1px rgba(60, 64, 67, 0.15);\n",
              "      fill: #174EA6;\n",
              "    }\n",
              "\n",
              "    .colab-df-buttons div {\n",
              "      margin-bottom: 4px;\n",
              "    }\n",
              "\n",
              "    [theme=dark] .colab-df-convert {\n",
              "      background-color: #3B4455;\n",
              "      fill: #D2E3FC;\n",
              "    }\n",
              "\n",
              "    [theme=dark] .colab-df-convert:hover {\n",
              "      background-color: #434B5C;\n",
              "      box-shadow: 0px 1px 3px 1px rgba(0, 0, 0, 0.15);\n",
              "      filter: drop-shadow(0px 1px 2px rgba(0, 0, 0, 0.3));\n",
              "      fill: #FFFFFF;\n",
              "    }\n",
              "  </style>\n",
              "\n",
              "    <script>\n",
              "      const buttonEl =\n",
              "        document.querySelector('#df-15e765e7-a17e-4580-9943-fb85dc8fa2b4 button.colab-df-convert');\n",
              "      buttonEl.style.display =\n",
              "        google.colab.kernel.accessAllowed ? 'block' : 'none';\n",
              "\n",
              "      async function convertToInteractive(key) {\n",
              "        const element = document.querySelector('#df-15e765e7-a17e-4580-9943-fb85dc8fa2b4');\n",
              "        const dataTable =\n",
              "          await google.colab.kernel.invokeFunction('convertToInteractive',\n",
              "                                                    [key], {});\n",
              "        if (!dataTable) return;\n",
              "\n",
              "        const docLinkHtml = 'Like what you see? Visit the ' +\n",
              "          '<a target=\"_blank\" href=https://colab.research.google.com/notebooks/data_table.ipynb>data table notebook</a>'\n",
              "          + ' to learn more about interactive tables.';\n",
              "        element.innerHTML = '';\n",
              "        dataTable['output_type'] = 'display_data';\n",
              "        await google.colab.output.renderOutput(dataTable, element);\n",
              "        const docLink = document.createElement('div');\n",
              "        docLink.innerHTML = docLinkHtml;\n",
              "        element.appendChild(docLink);\n",
              "      }\n",
              "    </script>\n",
              "  </div>\n",
              "\n",
              "\n",
              "<div id=\"df-3d5428d2-eb15-4664-9195-5b060f4200cb\">\n",
              "  <button class=\"colab-df-quickchart\" onclick=\"quickchart('df-3d5428d2-eb15-4664-9195-5b060f4200cb')\"\n",
              "            title=\"Suggest charts\"\n",
              "            style=\"display:none;\">\n",
              "\n",
              "<svg xmlns=\"http://www.w3.org/2000/svg\" height=\"24px\"viewBox=\"0 0 24 24\"\n",
              "     width=\"24px\">\n",
              "    <g>\n",
              "        <path d=\"M19 3H5c-1.1 0-2 .9-2 2v14c0 1.1.9 2 2 2h14c1.1 0 2-.9 2-2V5c0-1.1-.9-2-2-2zM9 17H7v-7h2v7zm4 0h-2V7h2v10zm4 0h-2v-4h2v4z\"/>\n",
              "    </g>\n",
              "</svg>\n",
              "  </button>\n",
              "\n",
              "<style>\n",
              "  .colab-df-quickchart {\n",
              "      --bg-color: #E8F0FE;\n",
              "      --fill-color: #1967D2;\n",
              "      --hover-bg-color: #E2EBFA;\n",
              "      --hover-fill-color: #174EA6;\n",
              "      --disabled-fill-color: #AAA;\n",
              "      --disabled-bg-color: #DDD;\n",
              "  }\n",
              "\n",
              "  [theme=dark] .colab-df-quickchart {\n",
              "      --bg-color: #3B4455;\n",
              "      --fill-color: #D2E3FC;\n",
              "      --hover-bg-color: #434B5C;\n",
              "      --hover-fill-color: #FFFFFF;\n",
              "      --disabled-bg-color: #3B4455;\n",
              "      --disabled-fill-color: #666;\n",
              "  }\n",
              "\n",
              "  .colab-df-quickchart {\n",
              "    background-color: var(--bg-color);\n",
              "    border: none;\n",
              "    border-radius: 50%;\n",
              "    cursor: pointer;\n",
              "    display: none;\n",
              "    fill: var(--fill-color);\n",
              "    height: 32px;\n",
              "    padding: 0;\n",
              "    width: 32px;\n",
              "  }\n",
              "\n",
              "  .colab-df-quickchart:hover {\n",
              "    background-color: var(--hover-bg-color);\n",
              "    box-shadow: 0 1px 2px rgba(60, 64, 67, 0.3), 0 1px 3px 1px rgba(60, 64, 67, 0.15);\n",
              "    fill: var(--button-hover-fill-color);\n",
              "  }\n",
              "\n",
              "  .colab-df-quickchart-complete:disabled,\n",
              "  .colab-df-quickchart-complete:disabled:hover {\n",
              "    background-color: var(--disabled-bg-color);\n",
              "    fill: var(--disabled-fill-color);\n",
              "    box-shadow: none;\n",
              "  }\n",
              "\n",
              "  .colab-df-spinner {\n",
              "    border: 2px solid var(--fill-color);\n",
              "    border-color: transparent;\n",
              "    border-bottom-color: var(--fill-color);\n",
              "    animation:\n",
              "      spin 1s steps(1) infinite;\n",
              "  }\n",
              "\n",
              "  @keyframes spin {\n",
              "    0% {\n",
              "      border-color: transparent;\n",
              "      border-bottom-color: var(--fill-color);\n",
              "      border-left-color: var(--fill-color);\n",
              "    }\n",
              "    20% {\n",
              "      border-color: transparent;\n",
              "      border-left-color: var(--fill-color);\n",
              "      border-top-color: var(--fill-color);\n",
              "    }\n",
              "    30% {\n",
              "      border-color: transparent;\n",
              "      border-left-color: var(--fill-color);\n",
              "      border-top-color: var(--fill-color);\n",
              "      border-right-color: var(--fill-color);\n",
              "    }\n",
              "    40% {\n",
              "      border-color: transparent;\n",
              "      border-right-color: var(--fill-color);\n",
              "      border-top-color: var(--fill-color);\n",
              "    }\n",
              "    60% {\n",
              "      border-color: transparent;\n",
              "      border-right-color: var(--fill-color);\n",
              "    }\n",
              "    80% {\n",
              "      border-color: transparent;\n",
              "      border-right-color: var(--fill-color);\n",
              "      border-bottom-color: var(--fill-color);\n",
              "    }\n",
              "    90% {\n",
              "      border-color: transparent;\n",
              "      border-bottom-color: var(--fill-color);\n",
              "    }\n",
              "  }\n",
              "</style>\n",
              "\n",
              "  <script>\n",
              "    async function quickchart(key) {\n",
              "      const quickchartButtonEl =\n",
              "        document.querySelector('#' + key + ' button');\n",
              "      quickchartButtonEl.disabled = true;  // To prevent multiple clicks.\n",
              "      quickchartButtonEl.classList.add('colab-df-spinner');\n",
              "      try {\n",
              "        const charts = await google.colab.kernel.invokeFunction(\n",
              "            'suggestCharts', [key], {});\n",
              "      } catch (error) {\n",
              "        console.error('Error during call to suggestCharts:', error);\n",
              "      }\n",
              "      quickchartButtonEl.classList.remove('colab-df-spinner');\n",
              "      quickchartButtonEl.classList.add('colab-df-quickchart-complete');\n",
              "    }\n",
              "    (() => {\n",
              "      let quickchartButtonEl =\n",
              "        document.querySelector('#df-3d5428d2-eb15-4664-9195-5b060f4200cb button');\n",
              "      quickchartButtonEl.style.display =\n",
              "        google.colab.kernel.accessAllowed ? 'block' : 'none';\n",
              "    })();\n",
              "  </script>\n",
              "</div>\n",
              "\n",
              "    </div>\n",
              "  </div>\n"
            ],
            "application/vnd.google.colaboratory.intrinsic+json": {
              "type": "dataframe",
              "variable_name": "train_df"
            }
          },
          "metadata": {},
          "execution_count": 21
        }
      ]
    },
    {
      "cell_type": "code",
      "source": [
        "train_df['label'].value_counts()"
      ],
      "metadata": {
        "colab": {
          "base_uri": "https://localhost:8080/",
          "height": 178
        },
        "id": "14Ldm8clyI_F",
        "outputId": "03afba0e-fcb8-42b9-acff-3c4b1c6b042b"
      },
      "execution_count": null,
      "outputs": [
        {
          "output_type": "execute_result",
          "data": {
            "text/plain": [
              "label\n",
              "0    75173\n",
              "1    74827\n",
              "Name: count, dtype: int64"
            ],
            "text/html": [
              "<div>\n",
              "<style scoped>\n",
              "    .dataframe tbody tr th:only-of-type {\n",
              "        vertical-align: middle;\n",
              "    }\n",
              "\n",
              "    .dataframe tbody tr th {\n",
              "        vertical-align: top;\n",
              "    }\n",
              "\n",
              "    .dataframe thead th {\n",
              "        text-align: right;\n",
              "    }\n",
              "</style>\n",
              "<table border=\"1\" class=\"dataframe\">\n",
              "  <thead>\n",
              "    <tr style=\"text-align: right;\">\n",
              "      <th></th>\n",
              "      <th>count</th>\n",
              "    </tr>\n",
              "    <tr>\n",
              "      <th>label</th>\n",
              "      <th></th>\n",
              "    </tr>\n",
              "  </thead>\n",
              "  <tbody>\n",
              "    <tr>\n",
              "      <th>0</th>\n",
              "      <td>75173</td>\n",
              "    </tr>\n",
              "    <tr>\n",
              "      <th>1</th>\n",
              "      <td>74827</td>\n",
              "    </tr>\n",
              "  </tbody>\n",
              "</table>\n",
              "</div><br><label><b>dtype:</b> int64</label>"
            ]
          },
          "metadata": {},
          "execution_count": 22
        }
      ]
    },
    {
      "cell_type": "code",
      "source": [
        "import re\n",
        "\n",
        "train_df = train_df.fillna('')\n",
        "# 정규 표현식을 이용해 숫자를 공백으로 변경(정규 표현식으로 \\d는 숫자를 의미함.)\n",
        "train_df['document'] = train_df['document'].apply(lambda x: re.sub(r\"\\d+\", \" \", x))\n",
        "\n",
        "# 테스트 데이터 세트를 로딩하고 동일하게 Null 및 숫자를 공백으로 변환\n",
        "test_df = pd.read_csv('/content/drive/MyDrive/ESAA/OB 과제/ratings_test.txt', sep='\\t', encoding='utf-8')\n",
        "test_df = test_df.fillna(' ')\n",
        "test_df['document'] = test_df['document'].apply(lambda x: re.sub(r\"\\d+\", \" \", x))\n",
        "\n",
        "# id 칼럼 삭제 수행\n",
        "train_df.drop('id', axis=1, inplace=True)\n",
        "test_df.drop('id', axis=1, inplace=True)"
      ],
      "metadata": {
        "id": "22dWjR4EyfBi"
      },
      "execution_count": null,
      "outputs": []
    },
    {
      "cell_type": "code",
      "source": [
        "from konlpy.tag import Twitter\n",
        "\n",
        "twitter = Twitter()\n",
        "def tw_tokenizer(text):\n",
        "  # 입력 인자로 들어온 텍스트를 형태소 단어로 토큰화해 리스트 형태로 반환\n",
        "  tokens_ko = twitter.morphs(text)\n",
        "  return tokens_ko"
      ],
      "metadata": {
        "colab": {
          "base_uri": "https://localhost:8080/"
        },
        "id": "QomDjlHIy9Uh",
        "outputId": "99759bb6-bcb1-427b-c039-0fb3d6b84ee0"
      },
      "execution_count": null,
      "outputs": [
        {
          "output_type": "stream",
          "name": "stderr",
          "text": [
            "/usr/local/lib/python3.11/dist-packages/konlpy/tag/_okt.py:17: UserWarning: \"Twitter\" has changed to \"Okt\" since KoNLPy v0.4.5.\n",
            "  warn('\"Twitter\" has changed to \"Okt\" since KoNLPy v0.4.5.')\n"
          ]
        }
      ]
    },
    {
      "cell_type": "code",
      "source": [
        "from sklearn.feature_extraction.text import TfidfVectorizer\n",
        "from sklearn.linear_model import LogisticRegression\n",
        "from sklearn.model_selection import GridSearchCV\n",
        "\n",
        "# Twitter 객체의 morphs() 객체를 이용한 tokenizer, ngram_range(1,2)\n",
        "tfidf_vect = TfidfVectorizer(tokenizer=tw_tokenizer, ngram_range=(1,2), min_df=3, max_df=0.9)\n",
        "tfidf_vect.fit(train_df['document'])\n",
        "tfidf_matrix_train = tfidf_vect.transform(train_df['document'])"
      ],
      "metadata": {
        "colab": {
          "base_uri": "https://localhost:8080/"
        },
        "id": "CLacq2UfzcJE",
        "outputId": "ba4e15f1-9e82-4e38-9e2b-ec31389e55de"
      },
      "execution_count": null,
      "outputs": [
        {
          "output_type": "stream",
          "name": "stderr",
          "text": [
            "/usr/local/lib/python3.11/dist-packages/sklearn/feature_extraction/text.py:517: UserWarning: The parameter 'token_pattern' will not be used since 'tokenizer' is not None'\n",
            "  warnings.warn(\n"
          ]
        }
      ]
    },
    {
      "cell_type": "code",
      "source": [
        "# 로지스틱 회귀를 이용해 감성 분석 분류 수행\n",
        "lg_clf = LogisticRegression(random_state=0, solver='liblinear')\n",
        "\n",
        "# 파라미터 C 최적화를 위해 GridSearchCV를 이용.\n",
        "params = {'C':[1,3.5,4.5,5.5,10]}\n",
        "grid_cv = GridSearchCV(lg_clf, param_grid=params, cv=3, scoring='accuracy', verbose=1)\n",
        "grid_cv.fit(tfidf_matrix_train, train_df['label'])\n",
        "print(grid_cv.best_params_, round(grid_cv.best_score_, 4))"
      ],
      "metadata": {
        "colab": {
          "base_uri": "https://localhost:8080/"
        },
        "id": "b1apaHVC0HRL",
        "outputId": "b2acbf97-94c8-4dbf-eb57-14f10ea92614"
      },
      "execution_count": null,
      "outputs": [
        {
          "output_type": "stream",
          "name": "stdout",
          "text": [
            "Fitting 3 folds for each of 5 candidates, totalling 15 fits\n",
            "{'C': 3.5} 0.8593\n"
          ]
        }
      ]
    },
    {
      "cell_type": "code",
      "source": [
        "from sklearn.metrics import accuracy_score\n",
        "\n",
        "# 학습 데이터를 적용한 TfidfVectorizer를 이용해 테스트 데이터를 TF-IDF 값으로 피처 변환함.\n",
        "tfidf_matrix_test = tfidf_vect.transform(test_df['document'])\n",
        "\n",
        "# classifier는 GridSearchCV에서 최적 파라미터로 학습된 classifier를 그대로 이용\n",
        "best_estimator = grid_cv.best_estimator_\n",
        "preds = best_estimator.predict(tfidf_matrix_test)\n",
        "\n",
        "print('Logistic Regression 정확도:', accuracy_score(test_df['label'], preds))"
      ],
      "metadata": {
        "colab": {
          "base_uri": "https://localhost:8080/"
        },
        "id": "X8N8XI6f06zY",
        "outputId": "c0c005dd-7350-48e6-88d4-25bfa605957d"
      },
      "execution_count": null,
      "outputs": [
        {
          "output_type": "stream",
          "name": "stdout",
          "text": [
            "Logistic Regression 정확도: 0.86172\n"
          ]
        }
      ]
    },
    {
      "cell_type": "code",
      "source": [],
      "metadata": {
        "id": "u3IMPih91e7f"
      },
      "execution_count": null,
      "outputs": []
    }
  ]
}