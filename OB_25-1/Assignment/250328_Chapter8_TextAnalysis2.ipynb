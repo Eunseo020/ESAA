{
  "nbformat": 4,
  "nbformat_minor": 0,
  "metadata": {
    "colab": {
      "provenance": []
    },
    "kernelspec": {
      "name": "python3",
      "display_name": "Python 3"
    },
    "language_info": {
      "name": "python"
    }
  },
  "cells": [
    {
      "cell_type": "markdown",
      "source": [
        "파이썬 머신러닝 완벽 가이드 개정 2판 8장 p509~534"
      ],
      "metadata": {
        "id": "esC3tlBW5koD"
      }
    },
    {
      "cell_type": "markdown",
      "source": [
        "### **04. 텍스트 분류 실습 - 20 뉴스그룹 분류**\n",
        "\n",
        "- 특정 문서의 분류를 학습한 모델 생성 후 다른 문서의 분류를 예측함\n",
        "- 로지스틱 회귀를 이용한 분류 수행\n",
        "- 카운트 기반 / TF-IDF 기반 벡터화 각각의 예측 성능비교\n",
        "\n",
        "(1) 텍스트 정규화\n",
        "\n",
        "fetch_20newsgroups(): Bunch 객체반환.data를 살피면 기사 내용, 제목, 작성자 등의 다양한 정보 포함. 텍스트 분석을 위해 헤더와 푸터 정보 삭제(remove=). subset으로 학습/테스트 분리가능\n",
        "\n",
        "(2) 피처 벡터화 변환과 머신러닝 모델 학습/예측/평가\n",
        "\n",
        "- 1. Count기반: CountVectorizer으로 텍스트를 피처 벡터화\n",
        "  - 테스트 데이터에서 수행 시 반드시 학습 데이터에서 fit()한 객체로 테스트 데이터 변환(transform)\n",
        "  - 학습과 예측에 사용하는 피처 개수를 같게 하기 위함.\n",
        "  - fit_trasform() 사용X.\n",
        "- 피처 벡터화된 데이터에 로지스틱 회귀 적용해 분류예측\n",
        "- TF-IDF 기반 벡터화: TfidVectorizer()\n",
        "  - 단순 카운트 기반보다 높은 예측 정확도 제공\n",
        "  - 피처 정규화나 피처 벡터화의 효과적인 적용이 중요함\n",
        "  - 다양한 파라미터 적용: stop_words, ngram_range, max_df\n",
        "\n",
        "- GridSearchCV로 로지스틱 회귀의 하이퍼파라미터 최적화 수행.\n",
        "  - C파라미터 변경해가며 최적의 C값 도출하고 이를 이용해 예측\n",
        "\n",
        "(3) 사이킷런 파이프라인 사용 및 GridSearchCV와의 결합\n",
        "\n",
        "- 피처 벡터화와 ML 알고리즘 학습 및 예측을 한번에 진행할 수 있음. 대용량 데이터의 벡터화 결과를 별도로 저장하지 않고 스트림 기반에서 알고리즘 데이터로 입력 가능 -> 수행시간 절약\n",
        "\n",
        "```\n",
        "pipeline = Pipeline([('tfidf_vect', TfidVectorizer(stop_words='english')),('lr_clf', LogisticRegression(random_state=156))])\n",
        "```\n",
        "- 각각의 fit()과 transform이 Pipeline의 fit()과 predict()로 통일되어 수행됨\n",
        "- GridSearchCV(pipeline, ~)으로 모든 객체의 하이퍼 파라미터 튜닝 가능\n",
        "  - params에 딕셔너리로 각각 객체 변수에 언더바(_)두개를 붙여 이름과 값 설정\n",
        "  - 너무 많은 경우의 수로 오랜 시간 소모"
      ],
      "metadata": {
        "id": "ZPDTeNlC5_vz"
      }
    },
    {
      "cell_type": "code",
      "execution_count": null,
      "metadata": {
        "id": "hAZUypC85i6R"
      },
      "outputs": [],
      "source": [
        "# 텍스트 정규화\n",
        "from sklearn.datasets import fetch_20newsgroups\n",
        "\n",
        "news_data = fetch_20newsgroups(subset='all', random_state=156)"
      ]
    },
    {
      "cell_type": "code",
      "source": [
        "print(news_data.keys())"
      ],
      "metadata": {
        "colab": {
          "base_uri": "https://localhost:8080/"
        },
        "id": "yaF88JH8RvPC",
        "outputId": "9cee312d-a473-4b06-d57c-ed396f9af929"
      },
      "execution_count": null,
      "outputs": [
        {
          "output_type": "stream",
          "name": "stdout",
          "text": [
            "dict_keys(['data', 'filenames', 'target_names', 'target', 'DESCR'])\n"
          ]
        }
      ]
    },
    {
      "cell_type": "code",
      "source": [
        "import pandas as pd\n",
        "print('target 클래스의 값과 분포도 \\n', pd.Series(news_data.target).value_counts().sort_index())\n",
        "print('target 클래스의 이름들 \\n', news_data.target_names)"
      ],
      "metadata": {
        "colab": {
          "base_uri": "https://localhost:8080/"
        },
        "id": "e6e9ZBgmRyYS",
        "outputId": "2a3978b3-d1d2-44f8-b8f9-002c9645a531"
      },
      "execution_count": null,
      "outputs": [
        {
          "output_type": "stream",
          "name": "stdout",
          "text": [
            "target 클래스의 값과 분포도 \n",
            " 0     799\n",
            "1     973\n",
            "2     985\n",
            "3     982\n",
            "4     963\n",
            "5     988\n",
            "6     975\n",
            "7     990\n",
            "8     996\n",
            "9     994\n",
            "10    999\n",
            "11    991\n",
            "12    984\n",
            "13    990\n",
            "14    987\n",
            "15    997\n",
            "16    910\n",
            "17    940\n",
            "18    775\n",
            "19    628\n",
            "Name: count, dtype: int64\n",
            "target 클래스의 이름들 \n",
            " ['alt.atheism', 'comp.graphics', 'comp.os.ms-windows.misc', 'comp.sys.ibm.pc.hardware', 'comp.sys.mac.hardware', 'comp.windows.x', 'misc.forsale', 'rec.autos', 'rec.motorcycles', 'rec.sport.baseball', 'rec.sport.hockey', 'sci.crypt', 'sci.electronics', 'sci.med', 'sci.space', 'soc.religion.christian', 'talk.politics.guns', 'talk.politics.mideast', 'talk.politics.misc', 'talk.religion.misc']\n"
          ]
        }
      ]
    },
    {
      "cell_type": "code",
      "source": [
        "print(news_data.data[0])"
      ],
      "metadata": {
        "colab": {
          "base_uri": "https://localhost:8080/"
        },
        "id": "_RsT8jtjRyU6",
        "outputId": "d38cadf2-66a4-44b3-f4d1-e3af4cb8c9df"
      },
      "execution_count": null,
      "outputs": [
        {
          "output_type": "stream",
          "name": "stdout",
          "text": [
            "From: egreen@east.sun.com (Ed Green - Pixel Cruncher)\n",
            "Subject: Re: Observation re: helmets\n",
            "Organization: Sun Microsystems, RTP, NC\n",
            "Lines: 21\n",
            "Distribution: world\n",
            "Reply-To: egreen@east.sun.com\n",
            "NNTP-Posting-Host: laser.east.sun.com\n",
            "\n",
            "In article 211353@mavenry.altcit.eskimo.com, maven@mavenry.altcit.eskimo.com (Norman Hamer) writes:\n",
            "> \n",
            "> The question for the day is re: passenger helmets, if you don't know for \n",
            ">certain who's gonna ride with you (like say you meet them at a .... church \n",
            ">meeting, yeah, that's the ticket)... What are some guidelines? Should I just \n",
            ">pick up another shoei in my size to have a backup helmet (XL), or should I \n",
            ">maybe get an inexpensive one of a smaller size to accomodate my likely \n",
            ">passenger? \n",
            "\n",
            "If your primary concern is protecting the passenger in the event of a\n",
            "crash, have him or her fitted for a helmet that is their size.  If your\n",
            "primary concern is complying with stupid helmet laws, carry a real big\n",
            "spare (you can put a big or small head in a big helmet, but not in a\n",
            "small one).\n",
            "\n",
            "---\n",
            "Ed Green, former Ninjaite |I was drinking last night with a biker,\n",
            "  Ed.Green@East.Sun.COM   |and I showed him a picture of you.  I said,\n",
            "DoD #0111  (919)460-8302  |\"Go on, get to know her, you'll like her!\"\n",
            " (The Grateful Dead) -->  |It seemed like the least I could do...\n",
            "\n",
            "\n"
          ]
        }
      ]
    },
    {
      "cell_type": "code",
      "source": [
        "from sklearn.datasets import fetch_20newsgroups\n",
        "\n",
        "# subset='train'으로 학습용 데이터만 추출, remove=()로 내용만 추출\n",
        "train_news = fetch_20newsgroups(subset='train', remove=('headers', 'footers', 'quotes'), random_state=156)\n",
        "X_train = train_news.data\n",
        "y_train = train_news.target\n",
        "\n",
        "# subset='test'으로 테스트 데이터만 추출, remove=()로 내용만 추출\n",
        "test_news = fetch_20newsgroups(subset='test', remove=('headers', 'footers', 'quotes'), random_state=156)\n",
        "X_test = test_news.data\n",
        "y_test = test_news.target\n",
        "print('학습 데이터 크기 {0}, 테스트 데이터 크기 {1}'.format(len(train_news.data), len(test_news.data)))"
      ],
      "metadata": {
        "colab": {
          "base_uri": "https://localhost:8080/"
        },
        "id": "ox9QwkLASyPb",
        "outputId": "f88b81e0-9e9d-4d6b-b0cb-cd0e48e3ac4a"
      },
      "execution_count": null,
      "outputs": [
        {
          "output_type": "stream",
          "name": "stdout",
          "text": [
            "학습 데이터 크기 11314, 테스트 데이터 크기 7532\n"
          ]
        }
      ]
    },
    {
      "cell_type": "code",
      "source": [
        "### 피처 벡터화 변환과 머신러닝 모델 학습/예측/평가\n",
        "\n",
        "from sklearn.feature_extraction.text import CountVectorizer\n",
        "\n",
        "# Count Vectorization으로 피처 벡터화 변환 수행\n",
        "cnt_vect = CountVectorizer()\n",
        "cnt_vect.fit(X_train)\n",
        "X_train_cnt_vect = cnt_vect.transform(X_train)\n",
        "\n",
        "# 학습 데이터로 fit()된 CountVectorizer를 이용해 테스트 데이터를 피처 벡터화 변환 수행\n",
        "X_test_cnt_vect = cnt_vect.transform(X_test)\n",
        "\n",
        "print('학습 데이터 텍스트의 CountVectorizer Shape:', X_train_cnt_vect.shape)"
      ],
      "metadata": {
        "colab": {
          "base_uri": "https://localhost:8080/"
        },
        "id": "Gu-tQS3iTVYw",
        "outputId": "21c2b72f-7492-48a3-d31a-d20489654e66"
      },
      "execution_count": null,
      "outputs": [
        {
          "output_type": "stream",
          "name": "stdout",
          "text": [
            "학습 데이터 텍스트의 CountVectorizer Shape: (11314, 101631)\n"
          ]
        }
      ]
    },
    {
      "cell_type": "code",
      "source": [
        "from sklearn.linear_model import LogisticRegression\n",
        "from sklearn.metrics import accuracy_score\n",
        "import warnings\n",
        "warnings.filterwarnings('ignore')\n",
        "\n",
        "# LogisticRegression을 이용하여 학습/예측/평가\n",
        "lr_clf = LogisticRegression(solver='liblinear')\n",
        "lr_clf.fit(X_train_cnt_vect, y_train)\n",
        "pred = lr_clf.predict(X_test_cnt_vect)\n",
        "print('CountVectorized Logistic Regression의 예측 정확도는 {0:.3f}'.format(accuracy_score(y_test, pred)))"
      ],
      "metadata": {
        "colab": {
          "base_uri": "https://localhost:8080/"
        },
        "id": "YXcI4iQNS1F8",
        "outputId": "d48272be-96bf-4229-ae05-25f0f20f49b1"
      },
      "execution_count": null,
      "outputs": [
        {
          "output_type": "stream",
          "name": "stdout",
          "text": [
            "CountVectorized Logistic Regression의 예측 정확도는 0.617\n"
          ]
        }
      ]
    },
    {
      "cell_type": "code",
      "source": [
        "from sklearn.feature_extraction.text import TfidfVectorizer\n",
        "\n",
        "# TF-IDF 벡터화를 적용해 학습 데이터 세트와 테스트 데이터 세트 변환.\n",
        "tfidf_vect = TfidfVectorizer()\n",
        "tfidf_vect.fit(X_train)\n",
        "X_train_tfidf_vect = tfidf_vect.transform(X_train)\n",
        "X_test_tfidf_vect = tfidf_vect.transform(X_test)\n",
        "\n",
        "# LogisticRegression을 이용해 학습/예측/평가 수행.\n",
        "lr_clf = LogisticRegression(solver='liblinear')\n",
        "lr_clf.fit(X_train_tfidf_vect, y_train)\n",
        "pred = lr_clf.predict(X_test_tfidf_vect)\n",
        "print('TF-IDF Logistic Regression의 예측 정확도는 {0:.3f}'.format(accuracy_score(y_test, pred)))"
      ],
      "metadata": {
        "colab": {
          "base_uri": "https://localhost:8080/"
        },
        "id": "skHFlQ1PUJBD",
        "outputId": "1be302d4-c501-4a00-d4dc-eb6d26babd4b"
      },
      "execution_count": null,
      "outputs": [
        {
          "output_type": "stream",
          "name": "stdout",
          "text": [
            "TF-IDF Logistic Regression의 예측 정확도는 0.678\n"
          ]
        }
      ]
    },
    {
      "cell_type": "code",
      "source": [
        "# stop words 필터링을 추가하고 ngram을 기본 (1,1)에서 (1,2)로 변경해 피처 벡터화 적용\n",
        "tfidf_vect = TfidfVectorizer(stop_words='english', ngram_range=(1, 2), max_df=300 )\n",
        "tfidf_vect.fit(X_train)\n",
        "X_train_tfidf_vect = tfidf_vect.transform(X_train)\n",
        "X_test_tfidf_vect = tfidf_vect.transform(X_test)\n",
        "\n",
        "lr_clf = LogisticRegression(solver='liblinear')\n",
        "lr_clf.fit(X_train_tfidf_vect, y_train)\n",
        "pred = lr_clf.predict(X_test_tfidf_vect)\n",
        "print('TF-IDF Vectorized Logistic Regression 의 예측 정확도는 {0:.3f}'.format(accuracy_score(y_test, pred)))"
      ],
      "metadata": {
        "colab": {
          "base_uri": "https://localhost:8080/"
        },
        "id": "dX2sOjUrUdl8",
        "outputId": "bb1ed973-2d78-45a8-c5a3-1ed7288208bb"
      },
      "execution_count": null,
      "outputs": [
        {
          "output_type": "stream",
          "name": "stdout",
          "text": [
            "TF-IDF Vectorized Logistic Regression 의 예측 정확도는 0.690\n"
          ]
        }
      ]
    },
    {
      "cell_type": "code",
      "source": [
        "from sklearn.model_selection import GridSearchCV\n",
        "\n",
        "# 최적 C 값 도출 튜닝 수행. CV는 3 폴드 세트로 설정.\n",
        "params = {'C':[0.01, 0.1, 1, 5, 10]}\n",
        "grid_cv_lr = GridSearchCV(lr_clf, param_grid=params, cv=3, scoring='accuracy',verbose=1)\n",
        "grid_cv_lr.fit(X_train_tfidf_vect, y_train)\n",
        "print('Logistic Regression best C parameter: ', grid_cv_lr.best_params_)\n",
        "\n",
        "# 최적 C 값으로 학습된 grid_cv로 예측 및 정확도 평가.\n",
        "pred = grid_cv_lr.predict(X_test_tfidf_vect)\n",
        "print('TF-IDF Vectorized Logistic Regression의 예측 정확도는 {0:.3f}'.format(accuracy_score(y_test, pred)))"
      ],
      "metadata": {
        "colab": {
          "base_uri": "https://localhost:8080/"
        },
        "id": "PUCRYQSgUomr",
        "outputId": "24cd5b42-d912-4873-814b-3d842b2c3896"
      },
      "execution_count": null,
      "outputs": [
        {
          "output_type": "stream",
          "name": "stdout",
          "text": [
            "Fitting 3 folds for each of 5 candidates, totalling 15 fits\n",
            "Logistic Regression best C parameter:  {'C': 10}\n",
            "TF-IDF Vectorized Logistic Regression의 예측 정확도는 0.704\n"
          ]
        }
      ]
    },
    {
      "cell_type": "code",
      "source": [
        "## 사이킷런 파이프라인 사용 및 GridSearchCV와의 결합\n",
        "\n",
        "from sklearn.pipeline import Pipeline\n",
        "# TifdVectorizer 객체를 tfidf_vect로, LogisticRegression 객체를 lr_clf로 생성하는 Pipeline 생성\n",
        "pipeline = Pipeline([('tfidf_vect', TfidfVectorizer(stop_words='english', ngram_range=(1,2), max_df=300)),\n",
        "                     ('lr_clf', LogisticRegression(solver='liblinear', C=10))])"
      ],
      "metadata": {
        "id": "qQdWZGHQWN7u"
      },
      "execution_count": null,
      "outputs": []
    },
    {
      "cell_type": "code",
      "source": [
        "# 별도의 TfidfVectorizer 객체의 fit(), transform()과 LogisticRegression의 fit(), predict( )가 필요 없음\n",
        "# pipeline의 fit()과 predict()만으로 한꺼번에 피처 벡터화와 ML 학습/예측이 가능.\n",
        "pipeline.fit(X_train, y_train)\n",
        "pred = pipeline.predict(X_test)\n",
        "print ('Pipeline 을 통한 Logistic Regression 의 예측 정확도는 {0:.3f}'.format(accuracy_score(y_test, pred)))"
      ],
      "metadata": {
        "colab": {
          "base_uri": "https://localhost:8080/"
        },
        "id": "Myru3nAuWN4S",
        "outputId": "5b718561-60eb-4405-82a9-de44a6c156d9"
      },
      "execution_count": null,
      "outputs": [
        {
          "output_type": "stream",
          "name": "stdout",
          "text": [
            "Pipeline 을 통한 Logistic Regression 의 예측 정확도는 0.704\n"
          ]
        }
      ]
    },
    {
      "cell_type": "code",
      "source": [
        "from sklearn.pipeline import Pipeline\n",
        "\n",
        "pipeline = Pipeline([('tfidf_vect', TfidfVectorizer(stop_words='english')),\n",
        "                    ('lr_clf', LogisticRegression())])\n",
        "\n",
        "# Pipeline에 기술된 각각의 객체 변수에 언더바(_) 2개를 연달아 붙여 GridSearchCV에 사용될 파라미터/하이퍼 파라미터 이름과 값을 설정.\n",
        "params = {'tfidf_vect_ngram_range': [(1,1),(1,2),(1,3)],\n",
        "          'tfidf_vect_max_df': [100, 300, 700],\n",
        "          'Ir-Clf-C': [1, 5,10]}\n",
        "\n",
        "# # GridSearchCV의 생성자에 Estimator가 아닌 Pipeline 객체 입력\n",
        "# grid_cv_pipe = GridSearchCV(pipeline, param_grid=params, cv=3, scoring='accuracy', verbose=1)\n",
        "# grid_cv_pipe.fit(X_train, y_train)\n",
        "# print(grid_cv_pipe.best_params_, grid_cv_pipe.best_score_)\n",
        "\n",
        "# pred = grid_cv_pipe.predict(X_test)\n",
        "# print ('Pipeline을 통한 Logistic Regression 의 예측 정확도는 {0:.3f}'.format(accuracy_score(y_test, pred)))"
      ],
      "metadata": {
        "id": "ms3S9Ti5ZFEM"
      },
      "execution_count": null,
      "outputs": []
    },
    {
      "cell_type": "markdown",
      "source": [
        "### **05. 감성 분석**\n",
        "\n",
        "감성분석: 문서의 주관적인 감성/의견/감정/기분 등을 파악하기 위한 방법. 문서 내 텍스트의 주관적인 단어와 문맥을 기반으로 감성 수치를 계산함\n",
        "  - 감성지수: 긍정/부정 감성 지수 구성. 합산해 긍정/부정 감정 결정\n",
        "  - 지도학습: 일반적인 텍스트 기반 분류처럼 학습 기반으로 다른 데이터의 감성 분석 예측\n",
        "  - 비지도학습: Lexicon이라는 감성 어휘사전 이용해 문서의 긍/부정적 감성 여부 판단\n",
        "\n",
        "(1) 지도학습 기반 감성 분석 실습 - IMDB 영화평\n",
        "\n",
        "- 유명 영화 사이트의 영화평 텍스트 데이터 -> 긍정인지 부정인지 예측\n",
        "- id / sentiment / review\n",
        "- review 텍스트\n",
        "  - $<br/>$태크를 공백으로 바꿈\n",
        "  - 영어 아닌 문자들 모두 공백으로: 정규표현식을 이용해 영어 대/소문자가 아닌 문자열 찾기 [^a-za-Z]\n",
        "- sentiment 칼럼: 결정 값 클래스로 별도로 추출해 결정값 df(y)와 피쳐 df(X) 생성\n",
        "  - 학습 / 테스트 데이터\n",
        "- review 텍스트를 피처 벡터화 후 로지스틱 회귀 적용(Pipeline으로 한번에)\n",
        "  - Count 기반\n",
        "  - TF-LDF 기반: 성능이 더 좋음\n",
        "  - 성능평가: 이진 분류이므로 정확도, ROC_AUC\n",
        "\n",
        "(2) 비지도학습 기반 감성 분석 소개\n",
        "\n",
        "- Lexicon 기반으로 함. 대부분 데이터는 결정된 레이블 값이 없으므로 비지도학습 기반\n",
        "  - Lexicon: 감성 어휘집. 감성지수 수치를 가짐. 이를 구현한 패키지는 NLTK (안에 Lexicon 모듈 있음)\n",
        "- NLTK의 WordNet: 방대한 영어 어휘 사전. 시맨틱 분석을 제공함(문맥상 의미 파악 가능).\n",
        "  - Synset: 단어가 가지는 문맥, 시맨틱 정보를 제공하는 각각의 품사로 구성된 개별 단어\n",
        "  - 예측성능이 좋지는 않음\n",
        "- SentiWordNet: WordNet의 Synset개념을 감성 분석에 적용함. Synset별로 3가지 감성 점수(긍정, 부정, 객관성)를 문장별로 합산하여 감성지수를 계산하고 감성 결정\n",
        "- VADER: 주로 소셜 미디어의 텍스트에 대한 감성분석\n",
        "- Pattern: 예측성능이 가장 좋지만 최신 파이썬 호환 안됨\n",
        "\n",
        "(3) SentiWordNet을 이용한 감성 분석\n",
        "\n",
        "- synsets(): WordNet에 등재된 모든 Synset 객체 리스트 반환. 서로 다른 시맨틱을 가지는 객체. 객체의 파라미터는 POS 태그를 나타냄(의미, 품사, 명사의미 구분 인덱스)\n",
        "  - 속성: POS(품사), 정의, 부명제\n",
        "- path_similarity(): 단어간의 상호 유사도 측정\n",
        "- SentiWordNet의 senti_synsets(): WordNet의 synsets()과 유사.\n",
        "  - 감성지수(긍정/부정): pos_score()/neg_score()\n",
        "  - 객관성 지수 obj_score()\n",
        "- 감성분석 수행 순서\n",
        "  1. 문서를 문장 단위로 분해\n",
        "  2. 문장을 단어 단위로 토큰화하고 품사 태깅\n",
        "  3. 품사 태깅된 단어 기반으로 synset 객체와 senti_synset 객체 생성\n",
        "  4. senti_synset 객체에서 긍/부정 감성 지수를 구하고 이를 합산해 특정 임계치 이상일때 긍정, 아닐 땐 부정 감성으로 결정\n",
        "\n",
        "- WordNet으로 단어 토큰화, 어근추출(Lemmatization), 품사 태깅(POS Tagging) 적용 -> SentiSynset 클래스로 Polarity Score 합산(총 감성지수)\n",
        "  - apply lambda로 개별 감상평 텍스트에 적용\n",
        "  - 실제 감성 평사인 sentiment와 예측한 결과의 정확도, 정밀도, 재현율 측정\n",
        "  \n",
        "- 정확도 지표를 포함해 전반적으로 성능이 만족스럽지는 않음. 감성 분석을 위해 다양한 프레임워크를 제공한다는 장점\n",
        "\n",
        "(4) VADER를 이용한 감성 분석\n",
        "\n",
        "- VADER: 소셜 미디어의 감성 분석 용도로 만들어진 룰 기반의 Lexicon.\n",
        "  - SentimentIntensityAnalyzer()\n",
        "  - nltk('all')로 같이 NLTK 서브 모듈로 설치 가능\n",
        "  - 문서별 polarity_scores()로 감성 점수를 구한 뒤, 긍/부정 판단\n",
        "- polarity_scores(): 딕셔너리 형태의 감성점수 반환\n",
        "  - neg, neu, pos, compound(긍,부,중립 적절히 조합해 -1~1사이로 표현한 값)\n",
        "  - 상황에 따라 임곗값을 조정해 예측 성능 조절\n",
        "\n",
        "- 텍스트와 임곗값을 입력 파라미터로 하고 polarity_scores()로 감성 결과를 반환하는 함수를 만들고 , 각 문서별로 감성 결과를 새 칼럼으로 저장. 저장된 결과를 기반으로 VADER의 예측성능을 정확도, 정밀도, 재현율로 측정\n",
        "  - SentiWordNet보다 성능 향상됨.\n",
        "  - 지도학습보단 성능이 낮지만 결정 클래스 값이 없는 상황을 고려하면 만족스러움\n",
        "\n",
        "  ![image.png](data:image/png;base64,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)\n"
      ],
      "metadata": {
        "id": "hHBJdRON6A_9"
      }
    },
    {
      "cell_type": "code",
      "source": [
        "import pandas as pd\n",
        "\n",
        "review_df = pd.read_csv('/content/drive/MyDrive/ESAA/OB 과제/labeledTrainData.tsv', header=0, sep='\\t', quoting=3)\n",
        "review_df.head(3)"
      ],
      "metadata": {
        "id": "7Vl0h7fB6D0l",
        "colab": {
          "base_uri": "https://localhost:8080/",
          "height": 143
        },
        "outputId": "4e5ab82f-be89-4cf2-e5db-a2818796ccb6"
      },
      "execution_count": 1,
      "outputs": [
        {
          "output_type": "execute_result",
          "data": {
            "text/plain": [
              "         id  sentiment                                             review\n",
              "0  \"5814_8\"          1  \"With all this stuff going down at the moment ...\n",
              "1  \"2381_9\"          1  \"\\\"The Classic War of the Worlds\\\" by Timothy ...\n",
              "2  \"7759_3\"          0  \"The film starts with a manager (Nicholas Bell..."
            ],
            "text/html": [
              "\n",
              "  <div id=\"df-cb23bcf4-128e-48d3-848f-1e5c4aca1dc6\" class=\"colab-df-container\">\n",
              "    <div>\n",
              "<style scoped>\n",
              "    .dataframe tbody tr th:only-of-type {\n",
              "        vertical-align: middle;\n",
              "    }\n",
              "\n",
              "    .dataframe tbody tr th {\n",
              "        vertical-align: top;\n",
              "    }\n",
              "\n",
              "    .dataframe thead th {\n",
              "        text-align: right;\n",
              "    }\n",
              "</style>\n",
              "<table border=\"1\" class=\"dataframe\">\n",
              "  <thead>\n",
              "    <tr style=\"text-align: right;\">\n",
              "      <th></th>\n",
              "      <th>id</th>\n",
              "      <th>sentiment</th>\n",
              "      <th>review</th>\n",
              "    </tr>\n",
              "  </thead>\n",
              "  <tbody>\n",
              "    <tr>\n",
              "      <th>0</th>\n",
              "      <td>\"5814_8\"</td>\n",
              "      <td>1</td>\n",
              "      <td>\"With all this stuff going down at the moment ...</td>\n",
              "    </tr>\n",
              "    <tr>\n",
              "      <th>1</th>\n",
              "      <td>\"2381_9\"</td>\n",
              "      <td>1</td>\n",
              "      <td>\"\\\"The Classic War of the Worlds\\\" by Timothy ...</td>\n",
              "    </tr>\n",
              "    <tr>\n",
              "      <th>2</th>\n",
              "      <td>\"7759_3\"</td>\n",
              "      <td>0</td>\n",
              "      <td>\"The film starts with a manager (Nicholas Bell...</td>\n",
              "    </tr>\n",
              "  </tbody>\n",
              "</table>\n",
              "</div>\n",
              "    <div class=\"colab-df-buttons\">\n",
              "\n",
              "  <div class=\"colab-df-container\">\n",
              "    <button class=\"colab-df-convert\" onclick=\"convertToInteractive('df-cb23bcf4-128e-48d3-848f-1e5c4aca1dc6')\"\n",
              "            title=\"Convert this dataframe to an interactive table.\"\n",
              "            style=\"display:none;\">\n",
              "\n",
              "  <svg xmlns=\"http://www.w3.org/2000/svg\" height=\"24px\" viewBox=\"0 -960 960 960\">\n",
              "    <path d=\"M120-120v-720h720v720H120Zm60-500h600v-160H180v160Zm220 220h160v-160H400v160Zm0 220h160v-160H400v160ZM180-400h160v-160H180v160Zm440 0h160v-160H620v160ZM180-180h160v-160H180v160Zm440 0h160v-160H620v160Z\"/>\n",
              "  </svg>\n",
              "    </button>\n",
              "\n",
              "  <style>\n",
              "    .colab-df-container {\n",
              "      display:flex;\n",
              "      gap: 12px;\n",
              "    }\n",
              "\n",
              "    .colab-df-convert {\n",
              "      background-color: #E8F0FE;\n",
              "      border: none;\n",
              "      border-radius: 50%;\n",
              "      cursor: pointer;\n",
              "      display: none;\n",
              "      fill: #1967D2;\n",
              "      height: 32px;\n",
              "      padding: 0 0 0 0;\n",
              "      width: 32px;\n",
              "    }\n",
              "\n",
              "    .colab-df-convert:hover {\n",
              "      background-color: #E2EBFA;\n",
              "      box-shadow: 0px 1px 2px rgba(60, 64, 67, 0.3), 0px 1px 3px 1px rgba(60, 64, 67, 0.15);\n",
              "      fill: #174EA6;\n",
              "    }\n",
              "\n",
              "    .colab-df-buttons div {\n",
              "      margin-bottom: 4px;\n",
              "    }\n",
              "\n",
              "    [theme=dark] .colab-df-convert {\n",
              "      background-color: #3B4455;\n",
              "      fill: #D2E3FC;\n",
              "    }\n",
              "\n",
              "    [theme=dark] .colab-df-convert:hover {\n",
              "      background-color: #434B5C;\n",
              "      box-shadow: 0px 1px 3px 1px rgba(0, 0, 0, 0.15);\n",
              "      filter: drop-shadow(0px 1px 2px rgba(0, 0, 0, 0.3));\n",
              "      fill: #FFFFFF;\n",
              "    }\n",
              "  </style>\n",
              "\n",
              "    <script>\n",
              "      const buttonEl =\n",
              "        document.querySelector('#df-cb23bcf4-128e-48d3-848f-1e5c4aca1dc6 button.colab-df-convert');\n",
              "      buttonEl.style.display =\n",
              "        google.colab.kernel.accessAllowed ? 'block' : 'none';\n",
              "\n",
              "      async function convertToInteractive(key) {\n",
              "        const element = document.querySelector('#df-cb23bcf4-128e-48d3-848f-1e5c4aca1dc6');\n",
              "        const dataTable =\n",
              "          await google.colab.kernel.invokeFunction('convertToInteractive',\n",
              "                                                    [key], {});\n",
              "        if (!dataTable) return;\n",
              "\n",
              "        const docLinkHtml = 'Like what you see? Visit the ' +\n",
              "          '<a target=\"_blank\" href=https://colab.research.google.com/notebooks/data_table.ipynb>data table notebook</a>'\n",
              "          + ' to learn more about interactive tables.';\n",
              "        element.innerHTML = '';\n",
              "        dataTable['output_type'] = 'display_data';\n",
              "        await google.colab.output.renderOutput(dataTable, element);\n",
              "        const docLink = document.createElement('div');\n",
              "        docLink.innerHTML = docLinkHtml;\n",
              "        element.appendChild(docLink);\n",
              "      }\n",
              "    </script>\n",
              "  </div>\n",
              "\n",
              "\n",
              "<div id=\"df-8b6894e6-ccc7-4935-b1e5-a759900c6e86\">\n",
              "  <button class=\"colab-df-quickchart\" onclick=\"quickchart('df-8b6894e6-ccc7-4935-b1e5-a759900c6e86')\"\n",
              "            title=\"Suggest charts\"\n",
              "            style=\"display:none;\">\n",
              "\n",
              "<svg xmlns=\"http://www.w3.org/2000/svg\" height=\"24px\"viewBox=\"0 0 24 24\"\n",
              "     width=\"24px\">\n",
              "    <g>\n",
              "        <path d=\"M19 3H5c-1.1 0-2 .9-2 2v14c0 1.1.9 2 2 2h14c1.1 0 2-.9 2-2V5c0-1.1-.9-2-2-2zM9 17H7v-7h2v7zm4 0h-2V7h2v10zm4 0h-2v-4h2v4z\"/>\n",
              "    </g>\n",
              "</svg>\n",
              "  </button>\n",
              "\n",
              "<style>\n",
              "  .colab-df-quickchart {\n",
              "      --bg-color: #E8F0FE;\n",
              "      --fill-color: #1967D2;\n",
              "      --hover-bg-color: #E2EBFA;\n",
              "      --hover-fill-color: #174EA6;\n",
              "      --disabled-fill-color: #AAA;\n",
              "      --disabled-bg-color: #DDD;\n",
              "  }\n",
              "\n",
              "  [theme=dark] .colab-df-quickchart {\n",
              "      --bg-color: #3B4455;\n",
              "      --fill-color: #D2E3FC;\n",
              "      --hover-bg-color: #434B5C;\n",
              "      --hover-fill-color: #FFFFFF;\n",
              "      --disabled-bg-color: #3B4455;\n",
              "      --disabled-fill-color: #666;\n",
              "  }\n",
              "\n",
              "  .colab-df-quickchart {\n",
              "    background-color: var(--bg-color);\n",
              "    border: none;\n",
              "    border-radius: 50%;\n",
              "    cursor: pointer;\n",
              "    display: none;\n",
              "    fill: var(--fill-color);\n",
              "    height: 32px;\n",
              "    padding: 0;\n",
              "    width: 32px;\n",
              "  }\n",
              "\n",
              "  .colab-df-quickchart:hover {\n",
              "    background-color: var(--hover-bg-color);\n",
              "    box-shadow: 0 1px 2px rgba(60, 64, 67, 0.3), 0 1px 3px 1px rgba(60, 64, 67, 0.15);\n",
              "    fill: var(--button-hover-fill-color);\n",
              "  }\n",
              "\n",
              "  .colab-df-quickchart-complete:disabled,\n",
              "  .colab-df-quickchart-complete:disabled:hover {\n",
              "    background-color: var(--disabled-bg-color);\n",
              "    fill: var(--disabled-fill-color);\n",
              "    box-shadow: none;\n",
              "  }\n",
              "\n",
              "  .colab-df-spinner {\n",
              "    border: 2px solid var(--fill-color);\n",
              "    border-color: transparent;\n",
              "    border-bottom-color: var(--fill-color);\n",
              "    animation:\n",
              "      spin 1s steps(1) infinite;\n",
              "  }\n",
              "\n",
              "  @keyframes spin {\n",
              "    0% {\n",
              "      border-color: transparent;\n",
              "      border-bottom-color: var(--fill-color);\n",
              "      border-left-color: var(--fill-color);\n",
              "    }\n",
              "    20% {\n",
              "      border-color: transparent;\n",
              "      border-left-color: var(--fill-color);\n",
              "      border-top-color: var(--fill-color);\n",
              "    }\n",
              "    30% {\n",
              "      border-color: transparent;\n",
              "      border-left-color: var(--fill-color);\n",
              "      border-top-color: var(--fill-color);\n",
              "      border-right-color: var(--fill-color);\n",
              "    }\n",
              "    40% {\n",
              "      border-color: transparent;\n",
              "      border-right-color: var(--fill-color);\n",
              "      border-top-color: var(--fill-color);\n",
              "    }\n",
              "    60% {\n",
              "      border-color: transparent;\n",
              "      border-right-color: var(--fill-color);\n",
              "    }\n",
              "    80% {\n",
              "      border-color: transparent;\n",
              "      border-right-color: var(--fill-color);\n",
              "      border-bottom-color: var(--fill-color);\n",
              "    }\n",
              "    90% {\n",
              "      border-color: transparent;\n",
              "      border-bottom-color: var(--fill-color);\n",
              "    }\n",
              "  }\n",
              "</style>\n",
              "\n",
              "  <script>\n",
              "    async function quickchart(key) {\n",
              "      const quickchartButtonEl =\n",
              "        document.querySelector('#' + key + ' button');\n",
              "      quickchartButtonEl.disabled = true;  // To prevent multiple clicks.\n",
              "      quickchartButtonEl.classList.add('colab-df-spinner');\n",
              "      try {\n",
              "        const charts = await google.colab.kernel.invokeFunction(\n",
              "            'suggestCharts', [key], {});\n",
              "      } catch (error) {\n",
              "        console.error('Error during call to suggestCharts:', error);\n",
              "      }\n",
              "      quickchartButtonEl.classList.remove('colab-df-spinner');\n",
              "      quickchartButtonEl.classList.add('colab-df-quickchart-complete');\n",
              "    }\n",
              "    (() => {\n",
              "      let quickchartButtonEl =\n",
              "        document.querySelector('#df-8b6894e6-ccc7-4935-b1e5-a759900c6e86 button');\n",
              "      quickchartButtonEl.style.display =\n",
              "        google.colab.kernel.accessAllowed ? 'block' : 'none';\n",
              "    })();\n",
              "  </script>\n",
              "</div>\n",
              "\n",
              "    </div>\n",
              "  </div>\n"
            ],
            "application/vnd.google.colaboratory.intrinsic+json": {
              "type": "dataframe",
              "variable_name": "review_df",
              "summary": "{\n  \"name\": \"review_df\",\n  \"rows\": 25000,\n  \"fields\": [\n    {\n      \"column\": \"id\",\n      \"properties\": {\n        \"dtype\": \"string\",\n        \"num_unique_values\": 25000,\n        \"samples\": [\n          \"\\\"2570_3\\\"\",\n          \"\\\"4897_8\\\"\",\n          \"\\\"8485_3\\\"\"\n        ],\n        \"semantic_type\": \"\",\n        \"description\": \"\"\n      }\n    },\n    {\n      \"column\": \"sentiment\",\n      \"properties\": {\n        \"dtype\": \"number\",\n        \"std\": 0,\n        \"min\": 0,\n        \"max\": 1,\n        \"num_unique_values\": 2,\n        \"samples\": [\n          0,\n          1\n        ],\n        \"semantic_type\": \"\",\n        \"description\": \"\"\n      }\n    },\n    {\n      \"column\": \"review\",\n      \"properties\": {\n        \"dtype\": \"string\",\n        \"num_unique_values\": 24904,\n        \"samples\": [\n          \"\\\"This is not my favorite WIP (\\\\\\\"Women in Prison\\\\\\\"), but it is one of the most famous films in the sub-genre. It is was produced by Roger Corman, who at this point had already produced a few WIPs. It is obvious that the film tries to play with the established formula. The movie takes place in an USA prison, not in a \\\\\\\"banana republic\\\\\\\" like most WIP films. I'm not sure if that was a wise move, but it is an acceptable change of pace. Writer-director Demme really gets into his job, always digging for new ways to present a familiar scenario. In fact, he is a little too ambitious for his own good. The filmmaker creates a few surreal dream sequences that are borderline pretentious but it is fun to see how hard he tries to put this film above your average chicks-in-chains flick. But do not worry, Demme still operates within the parameters of the sub-genre. There is plenty of nudity and violence, something that will satisfy hardcore fans. The film is a little slow, but it is very entertaining. The cast is good. Roberta Collins is a WIP veteran, so she does not need an introduction, and Barbara Steel is a hoot as the wheelchair-bound crazy warden. Pam Grier is sorely missed, though.\\\"\",\n          \"\\\"In 1972, after his wife left to go her own way, Elvis Presley began dating Linda Thompson. Miss Thompson, a good-humored, long haired, lovely, statuesque beauty queen, is charted to fill a void in Elvis' life. When Elvis' divorce became final, Linda was already in place as the legendary performer's live-in girlfriend and travel companion until 1976.<br /><br />This is a gaudy look at their love affair and companionship. Linda whole-heartedly tending to her lover's needs and desires. And even putting up with his swallowing medications by the handful and introducing her to her own love affair with valium. At times this movie is harsh and dark of heart; a very unattractive look at the 'King' and his queen.<br /><br />Don Johnson is absolutely awful as Elvis. Over acting to the hilt is not attractive. Stephanie Zimbalist lacks the classiness of Linda, but does the job pretty well. Supporting cast includes: John Crawford, Ruta Lee, and Rick Lenz. Watching this twice is more than enough for me, but don't let this review stop you from checking it out. For most Elvis fans that I have conferred with, this is not a favored presentation.\\\"\"\n        ],\n        \"semantic_type\": \"\",\n        \"description\": \"\"\n      }\n    }\n  ]\n}"
            }
          },
          "metadata": {},
          "execution_count": 1
        }
      ]
    },
    {
      "cell_type": "code",
      "source": [
        "print(review_df['review'][0])"
      ],
      "metadata": {
        "colab": {
          "base_uri": "https://localhost:8080/"
        },
        "id": "YCugkBSD_Gmx",
        "outputId": "295129e9-850f-438a-ad50-debb681a1b5d"
      },
      "execution_count": 2,
      "outputs": [
        {
          "output_type": "stream",
          "name": "stdout",
          "text": [
            "\"With all this stuff going down at the moment with MJ i've started listening to his music, watching the odd documentary here and there, watched The Wiz and watched Moonwalker again. Maybe i just want to get a certain insight into this guy who i thought was really cool in the eighties just to maybe make up my mind whether he is guilty or innocent. Moonwalker is part biography, part feature film which i remember going to see at the cinema when it was originally released. Some of it has subtle messages about MJ's feeling towards the press and also the obvious message of drugs are bad m'kay.<br /><br />Visually impressive but of course this is all about Michael Jackson so unless you remotely like MJ in anyway then you are going to hate this and find it boring. Some may call MJ an egotist for consenting to the making of this movie BUT MJ and most of his fans would say that he made it for the fans which if true is really nice of him.<br /><br />The actual feature film bit when it finally starts is only on for 20 minutes or so excluding the Smooth Criminal sequence and Joe Pesci is convincing as a psychopathic all powerful drug lord. Why he wants MJ dead so bad is beyond me. Because MJ overheard his plans? Nah, Joe Pesci's character ranted that he wanted people to know it is he who is supplying drugs etc so i dunno, maybe he just hates MJ's music.<br /><br />Lots of cool things in this like MJ turning into a car and a robot and the whole Speed Demon sequence. Also, the director must have had the patience of a saint when it came to filming the kiddy Bad sequence as usually directors hate working with one kid let alone a whole bunch of them performing a complex dance scene.<br /><br />Bottom line, this movie is for people who like MJ on one level or another (which i think is most people). If not, then stay away. It does try and give off a wholesome message and ironically MJ's bestest buddy in this movie is a girl! Michael Jackson is truly one of the most talented people ever to grace this planet but is he guilty? Well, with all the attention i've gave this subject....hmmm well i don't know because people can be different behind closed doors, i know this for a fact. He is either an extremely nice but stupid guy or one of the most sickest liars. I hope he is not the latter.\"\n"
          ]
        }
      ]
    },
    {
      "cell_type": "code",
      "source": [
        "import re\n",
        "\n",
        "# <br> html 태그는 replace 함수로 공백으로 변환\n",
        "review_df['review'] = review_df['review'].str.replace('<br \\>',' ')\n",
        "\n",
        "# 파이썬의 정규 표현식 모듈인 re를 이용해 영어 문자열이 아닌 문자는 모두 공백으로 변환\n",
        "review_df['review'] = review_df['review'].apply(lambda x: re.sub(\"[^a-zA-Z]\",\" \", x))"
      ],
      "metadata": {
        "id": "oKLpVghg_Npb"
      },
      "execution_count": 3,
      "outputs": []
    },
    {
      "cell_type": "code",
      "source": [
        "from sklearn.model_selection import train_test_split\n",
        "\n",
        "class_df = review_df['sentiment']\n",
        "feature_df = review_df.drop(['id', 'sentiment'], axis=1, inplace=False)\n",
        "X_train, X_test, y_train, y_test = train_test_split(feature_df, class_df, test_size=0.3, random_state=156)\n",
        "\n",
        "X_train.shape, X_test.shape"
      ],
      "metadata": {
        "colab": {
          "base_uri": "https://localhost:8080/"
        },
        "id": "iaK62ommASbm",
        "outputId": "8d3699a1-5285-4518-8c1c-8079ac42155b"
      },
      "execution_count": 4,
      "outputs": [
        {
          "output_type": "execute_result",
          "data": {
            "text/plain": [
              "((17500, 1), (7500, 1))"
            ]
          },
          "metadata": {},
          "execution_count": 4
        }
      ]
    },
    {
      "cell_type": "code",
      "source": [
        "from sklearn.feature_extraction.text import CountVectorizer, TfidfVectorizer\n",
        "from sklearn.pipeline import Pipeline\n",
        "from sklearn.linear_model import LogisticRegression\n",
        "from sklearn.metrics import accuracy_score, roc_auc_score\n",
        "\n",
        "# 스톱 워드는 English, ngram은 (1, 2)로 설정해 CountVectorization 수행\n",
        "# LogisticRegression의 C는 10으로 설정.\n",
        "pipeline = Pipeline([\n",
        "    ('cnt_vect', CountVectorizer(stop_words='english',ngram_range=(1, 2))),\n",
        "    ('lr_clf', LogisticRegression(solver='liblinear', C=10))]\n",
        "                    )\n",
        "# Pipeline 객체를 이용해 fit(), predict()로 학습/예측 수행. predict_proba()는 roc_auc 때문에 수행.\n",
        "pipeline.fit(X_train['review'], y_train)\n",
        "pred = pipeline.predict(X_test['review'])\n",
        "pred_probs = pipeline.predict_proba(X_test['review'])[:,1]\n",
        "\n",
        "print('예측 정확도는 {0:.4f}, ROC-AUC는 {1:.4f}'.format(accuracy_score(y_test, pred),roc_auc_score(y_test, pred_probs)))"
      ],
      "metadata": {
        "id": "eJDcOgu3AT-Q",
        "colab": {
          "base_uri": "https://localhost:8080/"
        },
        "outputId": "f0c5ac18-f98e-480f-8bca-2887fe30593e"
      },
      "execution_count": 5,
      "outputs": [
        {
          "output_type": "stream",
          "name": "stdout",
          "text": [
            "예측 정확도는 0.8868, ROC-AUC는 0.9505\n"
          ]
        }
      ]
    },
    {
      "cell_type": "code",
      "source": [
        "# TF-IDF벡터화\n",
        "\n",
        "# 스톱 워드는 english, filtering, ngram은 (1, 2)로 설정해 TF-IDF 벡터화 수행.\n",
        "# LogisticRegression의 C는 10으로 설정.\n",
        "pipeline = Pipeline([\n",
        "    ('tfidf_vect',TfidfVectorizer(stop_words='english', ngram_range=(1, 2) )),\n",
        "    ('lr_clf', LogisticRegression(solver='liblinear', C=10))])\n",
        "\n",
        "pipeline.fit(X_train['review'], y_train)\n",
        "pred = pipeline.predict(X_test['review'])\n",
        "pred_probs = pipeline.predict_proba(X_test['review'])[:,1]\n",
        "\n",
        "print('예측 정확도는 {0:.4f}, ROC-AUC는 {1:.4f}'.format(accuracy_score(y_test, pred), roc_auc_score(y_test, pred_probs)))"
      ],
      "metadata": {
        "colab": {
          "base_uri": "https://localhost:8080/"
        },
        "id": "HQeEHFrqwBqw",
        "outputId": "51056143-02ac-4774-86db-28a8dc484c0c"
      },
      "execution_count": 7,
      "outputs": [
        {
          "output_type": "stream",
          "name": "stdout",
          "text": [
            "예측 정확도는 0.8932, ROC-AUC는 0.9600\n"
          ]
        }
      ]
    },
    {
      "cell_type": "markdown",
      "source": [
        "- SentiWordNet"
      ],
      "metadata": {
        "id": "lfmFoGzKwkta"
      }
    },
    {
      "cell_type": "code",
      "source": [
        "import nltk\n",
        "nltk.download('all')"
      ],
      "metadata": {
        "colab": {
          "base_uri": "https://localhost:8080/"
        },
        "id": "CX4HNhZEwexH",
        "outputId": "2a6397ca-a7eb-4378-9051-f3c4dfb637d3"
      },
      "execution_count": 22,
      "outputs": [
        {
          "output_type": "stream",
          "name": "stderr",
          "text": [
            "[nltk_data] Downloading collection 'all'\n",
            "[nltk_data]    | \n",
            "[nltk_data]    | Downloading package abc to /root/nltk_data...\n",
            "[nltk_data]    |   Package abc is already up-to-date!\n",
            "[nltk_data]    | Downloading package alpino to /root/nltk_data...\n",
            "[nltk_data]    |   Package alpino is already up-to-date!\n",
            "[nltk_data]    | Downloading package averaged_perceptron_tagger to\n",
            "[nltk_data]    |     /root/nltk_data...\n",
            "[nltk_data]    |   Package averaged_perceptron_tagger is already up-\n",
            "[nltk_data]    |       to-date!\n",
            "[nltk_data]    | Downloading package averaged_perceptron_tagger_eng to\n",
            "[nltk_data]    |     /root/nltk_data...\n",
            "[nltk_data]    |   Package averaged_perceptron_tagger_eng is already\n",
            "[nltk_data]    |       up-to-date!\n",
            "[nltk_data]    | Downloading package averaged_perceptron_tagger_ru to\n",
            "[nltk_data]    |     /root/nltk_data...\n",
            "[nltk_data]    |   Package averaged_perceptron_tagger_ru is already\n",
            "[nltk_data]    |       up-to-date!\n",
            "[nltk_data]    | Downloading package averaged_perceptron_tagger_rus to\n",
            "[nltk_data]    |     /root/nltk_data...\n",
            "[nltk_data]    |   Package averaged_perceptron_tagger_rus is already\n",
            "[nltk_data]    |       up-to-date!\n",
            "[nltk_data]    | Downloading package basque_grammars to\n",
            "[nltk_data]    |     /root/nltk_data...\n",
            "[nltk_data]    |   Package basque_grammars is already up-to-date!\n",
            "[nltk_data]    | Downloading package bcp47 to /root/nltk_data...\n",
            "[nltk_data]    |   Package bcp47 is already up-to-date!\n",
            "[nltk_data]    | Downloading package biocreative_ppi to\n",
            "[nltk_data]    |     /root/nltk_data...\n",
            "[nltk_data]    |   Package biocreative_ppi is already up-to-date!\n",
            "[nltk_data]    | Downloading package bllip_wsj_no_aux to\n",
            "[nltk_data]    |     /root/nltk_data...\n",
            "[nltk_data]    |   Package bllip_wsj_no_aux is already up-to-date!\n",
            "[nltk_data]    | Downloading package book_grammars to\n",
            "[nltk_data]    |     /root/nltk_data...\n",
            "[nltk_data]    |   Package book_grammars is already up-to-date!\n",
            "[nltk_data]    | Downloading package brown to /root/nltk_data...\n",
            "[nltk_data]    |   Package brown is already up-to-date!\n",
            "[nltk_data]    | Downloading package brown_tei to /root/nltk_data...\n",
            "[nltk_data]    |   Package brown_tei is already up-to-date!\n",
            "[nltk_data]    | Downloading package cess_cat to /root/nltk_data...\n",
            "[nltk_data]    |   Package cess_cat is already up-to-date!\n",
            "[nltk_data]    | Downloading package cess_esp to /root/nltk_data...\n",
            "[nltk_data]    |   Package cess_esp is already up-to-date!\n",
            "[nltk_data]    | Downloading package chat80 to /root/nltk_data...\n",
            "[nltk_data]    |   Package chat80 is already up-to-date!\n",
            "[nltk_data]    | Downloading package city_database to\n",
            "[nltk_data]    |     /root/nltk_data...\n",
            "[nltk_data]    |   Package city_database is already up-to-date!\n",
            "[nltk_data]    | Downloading package cmudict to /root/nltk_data...\n",
            "[nltk_data]    |   Package cmudict is already up-to-date!\n",
            "[nltk_data]    | Downloading package comparative_sentences to\n",
            "[nltk_data]    |     /root/nltk_data...\n",
            "[nltk_data]    |   Package comparative_sentences is already up-to-\n",
            "[nltk_data]    |       date!\n",
            "[nltk_data]    | Downloading package comtrans to /root/nltk_data...\n",
            "[nltk_data]    |   Package comtrans is already up-to-date!\n",
            "[nltk_data]    | Downloading package conll2000 to /root/nltk_data...\n",
            "[nltk_data]    |   Package conll2000 is already up-to-date!\n",
            "[nltk_data]    | Downloading package conll2002 to /root/nltk_data...\n",
            "[nltk_data]    |   Package conll2002 is already up-to-date!\n",
            "[nltk_data]    | Downloading package conll2007 to /root/nltk_data...\n",
            "[nltk_data]    |   Package conll2007 is already up-to-date!\n",
            "[nltk_data]    | Downloading package crubadan to /root/nltk_data...\n",
            "[nltk_data]    |   Package crubadan is already up-to-date!\n",
            "[nltk_data]    | Downloading package dependency_treebank to\n",
            "[nltk_data]    |     /root/nltk_data...\n",
            "[nltk_data]    |   Package dependency_treebank is already up-to-date!\n",
            "[nltk_data]    | Downloading package dolch to /root/nltk_data...\n",
            "[nltk_data]    |   Package dolch is already up-to-date!\n",
            "[nltk_data]    | Downloading package english_wordnet to\n",
            "[nltk_data]    |     /root/nltk_data...\n",
            "[nltk_data]    |   Package english_wordnet is already up-to-date!\n",
            "[nltk_data]    | Downloading package europarl_raw to\n",
            "[nltk_data]    |     /root/nltk_data...\n",
            "[nltk_data]    |   Package europarl_raw is already up-to-date!\n",
            "[nltk_data]    | Downloading package extended_omw to\n",
            "[nltk_data]    |     /root/nltk_data...\n",
            "[nltk_data]    |   Package extended_omw is already up-to-date!\n",
            "[nltk_data]    | Downloading package floresta to /root/nltk_data...\n",
            "[nltk_data]    |   Package floresta is already up-to-date!\n",
            "[nltk_data]    | Downloading package framenet_v15 to\n",
            "[nltk_data]    |     /root/nltk_data...\n",
            "[nltk_data]    |   Package framenet_v15 is already up-to-date!\n",
            "[nltk_data]    | Downloading package framenet_v17 to\n",
            "[nltk_data]    |     /root/nltk_data...\n",
            "[nltk_data]    |   Package framenet_v17 is already up-to-date!\n",
            "[nltk_data]    | Downloading package gazetteers to /root/nltk_data...\n",
            "[nltk_data]    |   Package gazetteers is already up-to-date!\n",
            "[nltk_data]    | Downloading package genesis to /root/nltk_data...\n",
            "[nltk_data]    |   Package genesis is already up-to-date!\n",
            "[nltk_data]    | Downloading package gutenberg to /root/nltk_data...\n",
            "[nltk_data]    |   Package gutenberg is already up-to-date!\n",
            "[nltk_data]    | Downloading package ieer to /root/nltk_data...\n",
            "[nltk_data]    |   Package ieer is already up-to-date!\n",
            "[nltk_data]    | Downloading package inaugural to /root/nltk_data...\n",
            "[nltk_data]    |   Package inaugural is already up-to-date!\n",
            "[nltk_data]    | Downloading package indian to /root/nltk_data...\n",
            "[nltk_data]    |   Package indian is already up-to-date!\n",
            "[nltk_data]    | Downloading package jeita to /root/nltk_data...\n",
            "[nltk_data]    |   Package jeita is already up-to-date!\n",
            "[nltk_data]    | Downloading package kimmo to /root/nltk_data...\n",
            "[nltk_data]    |   Package kimmo is already up-to-date!\n",
            "[nltk_data]    | Downloading package knbc to /root/nltk_data...\n",
            "[nltk_data]    |   Package knbc is already up-to-date!\n",
            "[nltk_data]    | Downloading package large_grammars to\n",
            "[nltk_data]    |     /root/nltk_data...\n",
            "[nltk_data]    |   Package large_grammars is already up-to-date!\n",
            "[nltk_data]    | Downloading package lin_thesaurus to\n",
            "[nltk_data]    |     /root/nltk_data...\n",
            "[nltk_data]    |   Package lin_thesaurus is already up-to-date!\n",
            "[nltk_data]    | Downloading package mac_morpho to /root/nltk_data...\n",
            "[nltk_data]    |   Package mac_morpho is already up-to-date!\n",
            "[nltk_data]    | Downloading package machado to /root/nltk_data...\n",
            "[nltk_data]    |   Package machado is already up-to-date!\n",
            "[nltk_data]    | Downloading package masc_tagged to /root/nltk_data...\n",
            "[nltk_data]    |   Package masc_tagged is already up-to-date!\n",
            "[nltk_data]    | Downloading package maxent_ne_chunker to\n",
            "[nltk_data]    |     /root/nltk_data...\n",
            "[nltk_data]    |   Package maxent_ne_chunker is already up-to-date!\n",
            "[nltk_data]    | Downloading package maxent_ne_chunker_tab to\n",
            "[nltk_data]    |     /root/nltk_data...\n",
            "[nltk_data]    |   Package maxent_ne_chunker_tab is already up-to-\n",
            "[nltk_data]    |       date!\n",
            "[nltk_data]    | Downloading package maxent_treebank_pos_tagger to\n",
            "[nltk_data]    |     /root/nltk_data...\n",
            "[nltk_data]    |   Package maxent_treebank_pos_tagger is already up-\n",
            "[nltk_data]    |       to-date!\n",
            "[nltk_data]    | Downloading package maxent_treebank_pos_tagger_tab to\n",
            "[nltk_data]    |     /root/nltk_data...\n",
            "[nltk_data]    |   Package maxent_treebank_pos_tagger_tab is already\n",
            "[nltk_data]    |       up-to-date!\n",
            "[nltk_data]    | Downloading package moses_sample to\n",
            "[nltk_data]    |     /root/nltk_data...\n",
            "[nltk_data]    |   Package moses_sample is already up-to-date!\n",
            "[nltk_data]    | Downloading package movie_reviews to\n",
            "[nltk_data]    |     /root/nltk_data...\n",
            "[nltk_data]    |   Package movie_reviews is already up-to-date!\n",
            "[nltk_data]    | Downloading package mte_teip5 to /root/nltk_data...\n",
            "[nltk_data]    |   Package mte_teip5 is already up-to-date!\n",
            "[nltk_data]    | Downloading package mwa_ppdb to /root/nltk_data...\n",
            "[nltk_data]    |   Package mwa_ppdb is already up-to-date!\n",
            "[nltk_data]    | Downloading package names to /root/nltk_data...\n",
            "[nltk_data]    |   Package names is already up-to-date!\n",
            "[nltk_data]    | Downloading package nombank.1.0 to /root/nltk_data...\n",
            "[nltk_data]    |   Package nombank.1.0 is already up-to-date!\n",
            "[nltk_data]    | Downloading package nonbreaking_prefixes to\n",
            "[nltk_data]    |     /root/nltk_data...\n",
            "[nltk_data]    |   Package nonbreaking_prefixes is already up-to-date!\n",
            "[nltk_data]    | Downloading package nps_chat to /root/nltk_data...\n",
            "[nltk_data]    |   Package nps_chat is already up-to-date!\n",
            "[nltk_data]    | Downloading package omw to /root/nltk_data...\n",
            "[nltk_data]    |   Package omw is already up-to-date!\n",
            "[nltk_data]    | Downloading package omw-1.4 to /root/nltk_data...\n",
            "[nltk_data]    |   Package omw-1.4 is already up-to-date!\n",
            "[nltk_data]    | Downloading package opinion_lexicon to\n",
            "[nltk_data]    |     /root/nltk_data...\n",
            "[nltk_data]    |   Package opinion_lexicon is already up-to-date!\n",
            "[nltk_data]    | Downloading package panlex_swadesh to\n",
            "[nltk_data]    |     /root/nltk_data...\n",
            "[nltk_data]    |   Package panlex_swadesh is already up-to-date!\n",
            "[nltk_data]    | Downloading package paradigms to /root/nltk_data...\n",
            "[nltk_data]    |   Package paradigms is already up-to-date!\n",
            "[nltk_data]    | Downloading package pe08 to /root/nltk_data...\n",
            "[nltk_data]    |   Package pe08 is already up-to-date!\n",
            "[nltk_data]    | Downloading package perluniprops to\n",
            "[nltk_data]    |     /root/nltk_data...\n",
            "[nltk_data]    |   Package perluniprops is already up-to-date!\n",
            "[nltk_data]    | Downloading package pil to /root/nltk_data...\n",
            "[nltk_data]    |   Package pil is already up-to-date!\n",
            "[nltk_data]    | Downloading package pl196x to /root/nltk_data...\n",
            "[nltk_data]    |   Package pl196x is already up-to-date!\n",
            "[nltk_data]    | Downloading package porter_test to /root/nltk_data...\n",
            "[nltk_data]    |   Package porter_test is already up-to-date!\n",
            "[nltk_data]    | Downloading package ppattach to /root/nltk_data...\n",
            "[nltk_data]    |   Package ppattach is already up-to-date!\n",
            "[nltk_data]    | Downloading package problem_reports to\n",
            "[nltk_data]    |     /root/nltk_data...\n",
            "[nltk_data]    |   Package problem_reports is already up-to-date!\n",
            "[nltk_data]    | Downloading package product_reviews_1 to\n",
            "[nltk_data]    |     /root/nltk_data...\n",
            "[nltk_data]    |   Package product_reviews_1 is already up-to-date!\n",
            "[nltk_data]    | Downloading package product_reviews_2 to\n",
            "[nltk_data]    |     /root/nltk_data...\n",
            "[nltk_data]    |   Package product_reviews_2 is already up-to-date!\n",
            "[nltk_data]    | Downloading package propbank to /root/nltk_data...\n",
            "[nltk_data]    |   Package propbank is already up-to-date!\n",
            "[nltk_data]    | Downloading package pros_cons to /root/nltk_data...\n",
            "[nltk_data]    |   Package pros_cons is already up-to-date!\n",
            "[nltk_data]    | Downloading package ptb to /root/nltk_data...\n",
            "[nltk_data]    |   Package ptb is already up-to-date!\n",
            "[nltk_data]    | Downloading package punkt to /root/nltk_data...\n",
            "[nltk_data]    |   Package punkt is already up-to-date!\n",
            "[nltk_data]    | Downloading package punkt_tab to /root/nltk_data...\n",
            "[nltk_data]    |   Package punkt_tab is already up-to-date!\n",
            "[nltk_data]    | Downloading package qc to /root/nltk_data...\n",
            "[nltk_data]    |   Package qc is already up-to-date!\n",
            "[nltk_data]    | Downloading package reuters to /root/nltk_data...\n",
            "[nltk_data]    |   Package reuters is already up-to-date!\n",
            "[nltk_data]    | Downloading package rslp to /root/nltk_data...\n",
            "[nltk_data]    |   Package rslp is already up-to-date!\n",
            "[nltk_data]    | Downloading package rte to /root/nltk_data...\n",
            "[nltk_data]    |   Package rte is already up-to-date!\n",
            "[nltk_data]    | Downloading package sample_grammars to\n",
            "[nltk_data]    |     /root/nltk_data...\n",
            "[nltk_data]    |   Package sample_grammars is already up-to-date!\n",
            "[nltk_data]    | Downloading package semcor to /root/nltk_data...\n",
            "[nltk_data]    |   Package semcor is already up-to-date!\n",
            "[nltk_data]    | Downloading package senseval to /root/nltk_data...\n",
            "[nltk_data]    |   Package senseval is already up-to-date!\n",
            "[nltk_data]    | Downloading package sentence_polarity to\n",
            "[nltk_data]    |     /root/nltk_data...\n",
            "[nltk_data]    |   Package sentence_polarity is already up-to-date!\n",
            "[nltk_data]    | Downloading package sentiwordnet to\n",
            "[nltk_data]    |     /root/nltk_data...\n",
            "[nltk_data]    |   Package sentiwordnet is already up-to-date!\n",
            "[nltk_data]    | Downloading package shakespeare to /root/nltk_data...\n",
            "[nltk_data]    |   Package shakespeare is already up-to-date!\n",
            "[nltk_data]    | Downloading package sinica_treebank to\n",
            "[nltk_data]    |     /root/nltk_data...\n",
            "[nltk_data]    |   Package sinica_treebank is already up-to-date!\n",
            "[nltk_data]    | Downloading package smultron to /root/nltk_data...\n",
            "[nltk_data]    |   Package smultron is already up-to-date!\n",
            "[nltk_data]    | Downloading package snowball_data to\n",
            "[nltk_data]    |     /root/nltk_data...\n",
            "[nltk_data]    |   Package snowball_data is already up-to-date!\n",
            "[nltk_data]    | Downloading package spanish_grammars to\n",
            "[nltk_data]    |     /root/nltk_data...\n",
            "[nltk_data]    |   Package spanish_grammars is already up-to-date!\n",
            "[nltk_data]    | Downloading package state_union to /root/nltk_data...\n",
            "[nltk_data]    |   Package state_union is already up-to-date!\n",
            "[nltk_data]    | Downloading package stopwords to /root/nltk_data...\n",
            "[nltk_data]    |   Package stopwords is already up-to-date!\n",
            "[nltk_data]    | Downloading package subjectivity to\n",
            "[nltk_data]    |     /root/nltk_data...\n",
            "[nltk_data]    |   Package subjectivity is already up-to-date!\n",
            "[nltk_data]    | Downloading package swadesh to /root/nltk_data...\n",
            "[nltk_data]    |   Package swadesh is already up-to-date!\n",
            "[nltk_data]    | Downloading package switchboard to /root/nltk_data...\n",
            "[nltk_data]    |   Package switchboard is already up-to-date!\n",
            "[nltk_data]    | Downloading package tagsets to /root/nltk_data...\n",
            "[nltk_data]    |   Package tagsets is already up-to-date!\n",
            "[nltk_data]    | Downloading package tagsets_json to\n",
            "[nltk_data]    |     /root/nltk_data...\n",
            "[nltk_data]    |   Package tagsets_json is already up-to-date!\n",
            "[nltk_data]    | Downloading package timit to /root/nltk_data...\n",
            "[nltk_data]    |   Package timit is already up-to-date!\n",
            "[nltk_data]    | Downloading package toolbox to /root/nltk_data...\n",
            "[nltk_data]    |   Package toolbox is already up-to-date!\n",
            "[nltk_data]    | Downloading package treebank to /root/nltk_data...\n",
            "[nltk_data]    |   Package treebank is already up-to-date!\n",
            "[nltk_data]    | Downloading package twitter_samples to\n",
            "[nltk_data]    |     /root/nltk_data...\n",
            "[nltk_data]    |   Package twitter_samples is already up-to-date!\n",
            "[nltk_data]    | Downloading package udhr to /root/nltk_data...\n",
            "[nltk_data]    |   Package udhr is already up-to-date!\n",
            "[nltk_data]    | Downloading package udhr2 to /root/nltk_data...\n",
            "[nltk_data]    |   Package udhr2 is already up-to-date!\n",
            "[nltk_data]    | Downloading package unicode_samples to\n",
            "[nltk_data]    |     /root/nltk_data...\n",
            "[nltk_data]    |   Package unicode_samples is already up-to-date!\n",
            "[nltk_data]    | Downloading package universal_tagset to\n",
            "[nltk_data]    |     /root/nltk_data...\n",
            "[nltk_data]    |   Package universal_tagset is already up-to-date!\n",
            "[nltk_data]    | Downloading package universal_treebanks_v20 to\n",
            "[nltk_data]    |     /root/nltk_data...\n",
            "[nltk_data]    |   Package universal_treebanks_v20 is already up-to-\n",
            "[nltk_data]    |       date!\n",
            "[nltk_data]    | Downloading package vader_lexicon to\n",
            "[nltk_data]    |     /root/nltk_data...\n",
            "[nltk_data]    |   Package vader_lexicon is already up-to-date!\n",
            "[nltk_data]    | Downloading package verbnet to /root/nltk_data...\n",
            "[nltk_data]    |   Package verbnet is already up-to-date!\n",
            "[nltk_data]    | Downloading package verbnet3 to /root/nltk_data...\n",
            "[nltk_data]    |   Package verbnet3 is already up-to-date!\n",
            "[nltk_data]    | Downloading package webtext to /root/nltk_data...\n",
            "[nltk_data]    |   Package webtext is already up-to-date!\n",
            "[nltk_data]    | Downloading package wmt15_eval to /root/nltk_data...\n",
            "[nltk_data]    |   Package wmt15_eval is already up-to-date!\n",
            "[nltk_data]    | Downloading package word2vec_sample to\n",
            "[nltk_data]    |     /root/nltk_data...\n",
            "[nltk_data]    |   Package word2vec_sample is already up-to-date!\n",
            "[nltk_data]    | Downloading package wordnet to /root/nltk_data...\n",
            "[nltk_data]    |   Package wordnet is already up-to-date!\n",
            "[nltk_data]    | Downloading package wordnet2021 to /root/nltk_data...\n",
            "[nltk_data]    |   Package wordnet2021 is already up-to-date!\n",
            "[nltk_data]    | Downloading package wordnet2022 to /root/nltk_data...\n",
            "[nltk_data]    |   Package wordnet2022 is already up-to-date!\n",
            "[nltk_data]    | Downloading package wordnet31 to /root/nltk_data...\n",
            "[nltk_data]    |   Package wordnet31 is already up-to-date!\n",
            "[nltk_data]    | Downloading package wordnet_ic to /root/nltk_data...\n",
            "[nltk_data]    |   Package wordnet_ic is already up-to-date!\n",
            "[nltk_data]    | Downloading package words to /root/nltk_data...\n",
            "[nltk_data]    |   Package words is already up-to-date!\n",
            "[nltk_data]    | Downloading package ycoe to /root/nltk_data...\n",
            "[nltk_data]    |   Package ycoe is already up-to-date!\n",
            "[nltk_data]    | \n",
            "[nltk_data]  Done downloading collection all\n"
          ]
        },
        {
          "output_type": "execute_result",
          "data": {
            "text/plain": [
              "True"
            ]
          },
          "metadata": {},
          "execution_count": 22
        }
      ]
    },
    {
      "cell_type": "code",
      "source": [
        "from nltk.corpus import wordnet as wn\n",
        "term = 'present'\n",
        "\n",
        "# 'present'라는 단어로 wordnet의 synsets 생성\n",
        "synsets = wn.synsets(term)\n",
        "print('synsets() 반환 type:', type(synsets))\n",
        "print('synsets() 반환 값 개수:', len(synsets))\n",
        "print('synsets() 반환 값:', synsets)"
      ],
      "metadata": {
        "colab": {
          "base_uri": "https://localhost:8080/"
        },
        "id": "YfhDb-6kw6Kf",
        "outputId": "4d36f270-0d14-4138-88f4-f0eb5ced23cc"
      },
      "execution_count": 9,
      "outputs": [
        {
          "output_type": "stream",
          "name": "stdout",
          "text": [
            "synsets() 반환 type: <class 'list'>\n",
            "synsets() 반환 값 개수: 18\n",
            "synsets() 반환 값: [Synset('present.n.01'), Synset('present.n.02'), Synset('present.n.03'), Synset('show.v.01'), Synset('present.v.02'), Synset('stage.v.01'), Synset('present.v.04'), Synset('present.v.05'), Synset('award.v.01'), Synset('give.v.08'), Synset('deliver.v.01'), Synset('introduce.v.01'), Synset('portray.v.04'), Synset('confront.v.03'), Synset('present.v.12'), Synset('salute.v.06'), Synset('present.a.01'), Synset('present.a.02')]\n"
          ]
        }
      ]
    },
    {
      "cell_type": "code",
      "source": [
        "for synset in synsets:\n",
        "  print('#### Synset name:', synset.name(), '####')\n",
        "  print('POS:', synset.lexname())\n",
        "  print('Definition:', synset.definition())\n",
        "  print('Lemsas:', synset.lemma_names())"
      ],
      "metadata": {
        "colab": {
          "base_uri": "https://localhost:8080/"
        },
        "id": "t0RXFhLJw64s",
        "outputId": "e504fe53-46f1-402c-8e07-9cc6354e5c23"
      },
      "execution_count": 10,
      "outputs": [
        {
          "output_type": "stream",
          "name": "stdout",
          "text": [
            "#### Synset name: present.n.01 ####\n",
            "POS: noun.time\n",
            "Definition: the period of time that is happening now; any continuous stretch of time including the moment of speech\n",
            "Lemsas: ['present', 'nowadays']\n",
            "#### Synset name: present.n.02 ####\n",
            "POS: noun.possession\n",
            "Definition: something presented as a gift\n",
            "Lemsas: ['present']\n",
            "#### Synset name: present.n.03 ####\n",
            "POS: noun.communication\n",
            "Definition: a verb tense that expresses actions or states at the time of speaking\n",
            "Lemsas: ['present', 'present_tense']\n",
            "#### Synset name: show.v.01 ####\n",
            "POS: verb.perception\n",
            "Definition: give an exhibition of to an interested audience\n",
            "Lemsas: ['show', 'demo', 'exhibit', 'present', 'demonstrate']\n",
            "#### Synset name: present.v.02 ####\n",
            "POS: verb.communication\n",
            "Definition: bring forward and present to the mind\n",
            "Lemsas: ['present', 'represent', 'lay_out']\n",
            "#### Synset name: stage.v.01 ####\n",
            "POS: verb.creation\n",
            "Definition: perform (a play), especially on a stage\n",
            "Lemsas: ['stage', 'present', 'represent']\n",
            "#### Synset name: present.v.04 ####\n",
            "POS: verb.possession\n",
            "Definition: hand over formally\n",
            "Lemsas: ['present', 'submit']\n",
            "#### Synset name: present.v.05 ####\n",
            "POS: verb.stative\n",
            "Definition: introduce\n",
            "Lemsas: ['present', 'pose']\n",
            "#### Synset name: award.v.01 ####\n",
            "POS: verb.possession\n",
            "Definition: give, especially as an honor or reward\n",
            "Lemsas: ['award', 'present']\n",
            "#### Synset name: give.v.08 ####\n",
            "POS: verb.possession\n",
            "Definition: give as a present; make a gift of\n",
            "Lemsas: ['give', 'gift', 'present']\n",
            "#### Synset name: deliver.v.01 ####\n",
            "POS: verb.communication\n",
            "Definition: deliver (a speech, oration, or idea)\n",
            "Lemsas: ['deliver', 'present']\n",
            "#### Synset name: introduce.v.01 ####\n",
            "POS: verb.communication\n",
            "Definition: cause to come to know personally\n",
            "Lemsas: ['introduce', 'present', 'acquaint']\n",
            "#### Synset name: portray.v.04 ####\n",
            "POS: verb.creation\n",
            "Definition: represent abstractly, for example in a painting, drawing, or sculpture\n",
            "Lemsas: ['portray', 'present']\n",
            "#### Synset name: confront.v.03 ####\n",
            "POS: verb.communication\n",
            "Definition: present somebody with something, usually to accuse or criticize\n",
            "Lemsas: ['confront', 'face', 'present']\n",
            "#### Synset name: present.v.12 ####\n",
            "POS: verb.communication\n",
            "Definition: formally present a debutante, a representative of a country, etc.\n",
            "Lemsas: ['present']\n",
            "#### Synset name: salute.v.06 ####\n",
            "POS: verb.communication\n",
            "Definition: recognize with a gesture prescribed by a military regulation; assume a prescribed position\n",
            "Lemsas: ['salute', 'present']\n",
            "#### Synset name: present.a.01 ####\n",
            "POS: adj.all\n",
            "Definition: temporal sense; intermediate between past and future; now existing or happening or in consideration\n",
            "Lemsas: ['present']\n",
            "#### Synset name: present.a.02 ####\n",
            "POS: adj.all\n",
            "Definition: being or existing in a specified place\n",
            "Lemsas: ['present']\n"
          ]
        }
      ]
    },
    {
      "cell_type": "code",
      "source": [
        "# synset 객체를 단어별로 생성\n",
        "tree = wn.synset('tree.n.01')\n",
        "lion = wn.synset('lion.n.01')\n",
        "tiger = wn.synset('tiger.n.02')\n",
        "cat = wn.synset('cat.n.01')\n",
        "dog = wn.synset('dog.n.01')\n",
        "\n",
        "entities = [tree, lion, tiger, cat, dog]\n",
        "similarities = []\n",
        "entity_names = [entity.name().split('.')[0] for entity in entities]\n",
        "\n",
        "# 단어별 synset을 반복하면서 다른 단어의 synset과 유사도를 측정\n",
        "for entity in entities:\n",
        "  similarity = [entity.path_similarity(compared_entity) for compared_entity in entities]\n",
        "  similarities.append(similarity)\n",
        "\n",
        "# 개별 단어별 synset과 다른 단어의 synset과의 유사도를 DataFrame형태로 저장\n",
        "similarity_df = pd.DataFrame(similarities, columns=entity_names, index=entity_names)\n",
        "similarity_df"
      ],
      "metadata": {
        "colab": {
          "base_uri": "https://localhost:8080/",
          "height": 206
        },
        "id": "A9C0Q9KOx5EJ",
        "outputId": "26083a84-7e4d-4e0d-f72f-3688d1ea77ed"
      },
      "execution_count": 11,
      "outputs": [
        {
          "output_type": "execute_result",
          "data": {
            "text/plain": [
              "           tree      lion     tiger       cat       dog\n",
              "tree   1.000000  0.071429  0.071429  0.076923  0.125000\n",
              "lion   0.071429  1.000000  0.333333  0.250000  0.166667\n",
              "tiger  0.071429  0.333333  1.000000  0.250000  0.166667\n",
              "cat    0.076923  0.250000  0.250000  1.000000  0.200000\n",
              "dog    0.125000  0.166667  0.166667  0.200000  1.000000"
            ],
            "text/html": [
              "\n",
              "  <div id=\"df-2c5362f5-73d6-45bb-8c14-a99437dd0cfe\" class=\"colab-df-container\">\n",
              "    <div>\n",
              "<style scoped>\n",
              "    .dataframe tbody tr th:only-of-type {\n",
              "        vertical-align: middle;\n",
              "    }\n",
              "\n",
              "    .dataframe tbody tr th {\n",
              "        vertical-align: top;\n",
              "    }\n",
              "\n",
              "    .dataframe thead th {\n",
              "        text-align: right;\n",
              "    }\n",
              "</style>\n",
              "<table border=\"1\" class=\"dataframe\">\n",
              "  <thead>\n",
              "    <tr style=\"text-align: right;\">\n",
              "      <th></th>\n",
              "      <th>tree</th>\n",
              "      <th>lion</th>\n",
              "      <th>tiger</th>\n",
              "      <th>cat</th>\n",
              "      <th>dog</th>\n",
              "    </tr>\n",
              "  </thead>\n",
              "  <tbody>\n",
              "    <tr>\n",
              "      <th>tree</th>\n",
              "      <td>1.000000</td>\n",
              "      <td>0.071429</td>\n",
              "      <td>0.071429</td>\n",
              "      <td>0.076923</td>\n",
              "      <td>0.125000</td>\n",
              "    </tr>\n",
              "    <tr>\n",
              "      <th>lion</th>\n",
              "      <td>0.071429</td>\n",
              "      <td>1.000000</td>\n",
              "      <td>0.333333</td>\n",
              "      <td>0.250000</td>\n",
              "      <td>0.166667</td>\n",
              "    </tr>\n",
              "    <tr>\n",
              "      <th>tiger</th>\n",
              "      <td>0.071429</td>\n",
              "      <td>0.333333</td>\n",
              "      <td>1.000000</td>\n",
              "      <td>0.250000</td>\n",
              "      <td>0.166667</td>\n",
              "    </tr>\n",
              "    <tr>\n",
              "      <th>cat</th>\n",
              "      <td>0.076923</td>\n",
              "      <td>0.250000</td>\n",
              "      <td>0.250000</td>\n",
              "      <td>1.000000</td>\n",
              "      <td>0.200000</td>\n",
              "    </tr>\n",
              "    <tr>\n",
              "      <th>dog</th>\n",
              "      <td>0.125000</td>\n",
              "      <td>0.166667</td>\n",
              "      <td>0.166667</td>\n",
              "      <td>0.200000</td>\n",
              "      <td>1.000000</td>\n",
              "    </tr>\n",
              "  </tbody>\n",
              "</table>\n",
              "</div>\n",
              "    <div class=\"colab-df-buttons\">\n",
              "\n",
              "  <div class=\"colab-df-container\">\n",
              "    <button class=\"colab-df-convert\" onclick=\"convertToInteractive('df-2c5362f5-73d6-45bb-8c14-a99437dd0cfe')\"\n",
              "            title=\"Convert this dataframe to an interactive table.\"\n",
              "            style=\"display:none;\">\n",
              "\n",
              "  <svg xmlns=\"http://www.w3.org/2000/svg\" height=\"24px\" viewBox=\"0 -960 960 960\">\n",
              "    <path d=\"M120-120v-720h720v720H120Zm60-500h600v-160H180v160Zm220 220h160v-160H400v160Zm0 220h160v-160H400v160ZM180-400h160v-160H180v160Zm440 0h160v-160H620v160ZM180-180h160v-160H180v160Zm440 0h160v-160H620v160Z\"/>\n",
              "  </svg>\n",
              "    </button>\n",
              "\n",
              "  <style>\n",
              "    .colab-df-container {\n",
              "      display:flex;\n",
              "      gap: 12px;\n",
              "    }\n",
              "\n",
              "    .colab-df-convert {\n",
              "      background-color: #E8F0FE;\n",
              "      border: none;\n",
              "      border-radius: 50%;\n",
              "      cursor: pointer;\n",
              "      display: none;\n",
              "      fill: #1967D2;\n",
              "      height: 32px;\n",
              "      padding: 0 0 0 0;\n",
              "      width: 32px;\n",
              "    }\n",
              "\n",
              "    .colab-df-convert:hover {\n",
              "      background-color: #E2EBFA;\n",
              "      box-shadow: 0px 1px 2px rgba(60, 64, 67, 0.3), 0px 1px 3px 1px rgba(60, 64, 67, 0.15);\n",
              "      fill: #174EA6;\n",
              "    }\n",
              "\n",
              "    .colab-df-buttons div {\n",
              "      margin-bottom: 4px;\n",
              "    }\n",
              "\n",
              "    [theme=dark] .colab-df-convert {\n",
              "      background-color: #3B4455;\n",
              "      fill: #D2E3FC;\n",
              "    }\n",
              "\n",
              "    [theme=dark] .colab-df-convert:hover {\n",
              "      background-color: #434B5C;\n",
              "      box-shadow: 0px 1px 3px 1px rgba(0, 0, 0, 0.15);\n",
              "      filter: drop-shadow(0px 1px 2px rgba(0, 0, 0, 0.3));\n",
              "      fill: #FFFFFF;\n",
              "    }\n",
              "  </style>\n",
              "\n",
              "    <script>\n",
              "      const buttonEl =\n",
              "        document.querySelector('#df-2c5362f5-73d6-45bb-8c14-a99437dd0cfe button.colab-df-convert');\n",
              "      buttonEl.style.display =\n",
              "        google.colab.kernel.accessAllowed ? 'block' : 'none';\n",
              "\n",
              "      async function convertToInteractive(key) {\n",
              "        const element = document.querySelector('#df-2c5362f5-73d6-45bb-8c14-a99437dd0cfe');\n",
              "        const dataTable =\n",
              "          await google.colab.kernel.invokeFunction('convertToInteractive',\n",
              "                                                    [key], {});\n",
              "        if (!dataTable) return;\n",
              "\n",
              "        const docLinkHtml = 'Like what you see? Visit the ' +\n",
              "          '<a target=\"_blank\" href=https://colab.research.google.com/notebooks/data_table.ipynb>data table notebook</a>'\n",
              "          + ' to learn more about interactive tables.';\n",
              "        element.innerHTML = '';\n",
              "        dataTable['output_type'] = 'display_data';\n",
              "        await google.colab.output.renderOutput(dataTable, element);\n",
              "        const docLink = document.createElement('div');\n",
              "        docLink.innerHTML = docLinkHtml;\n",
              "        element.appendChild(docLink);\n",
              "      }\n",
              "    </script>\n",
              "  </div>\n",
              "\n",
              "\n",
              "<div id=\"df-ed7c5741-4ce2-41dc-a910-c419a1f64817\">\n",
              "  <button class=\"colab-df-quickchart\" onclick=\"quickchart('df-ed7c5741-4ce2-41dc-a910-c419a1f64817')\"\n",
              "            title=\"Suggest charts\"\n",
              "            style=\"display:none;\">\n",
              "\n",
              "<svg xmlns=\"http://www.w3.org/2000/svg\" height=\"24px\"viewBox=\"0 0 24 24\"\n",
              "     width=\"24px\">\n",
              "    <g>\n",
              "        <path d=\"M19 3H5c-1.1 0-2 .9-2 2v14c0 1.1.9 2 2 2h14c1.1 0 2-.9 2-2V5c0-1.1-.9-2-2-2zM9 17H7v-7h2v7zm4 0h-2V7h2v10zm4 0h-2v-4h2v4z\"/>\n",
              "    </g>\n",
              "</svg>\n",
              "  </button>\n",
              "\n",
              "<style>\n",
              "  .colab-df-quickchart {\n",
              "      --bg-color: #E8F0FE;\n",
              "      --fill-color: #1967D2;\n",
              "      --hover-bg-color: #E2EBFA;\n",
              "      --hover-fill-color: #174EA6;\n",
              "      --disabled-fill-color: #AAA;\n",
              "      --disabled-bg-color: #DDD;\n",
              "  }\n",
              "\n",
              "  [theme=dark] .colab-df-quickchart {\n",
              "      --bg-color: #3B4455;\n",
              "      --fill-color: #D2E3FC;\n",
              "      --hover-bg-color: #434B5C;\n",
              "      --hover-fill-color: #FFFFFF;\n",
              "      --disabled-bg-color: #3B4455;\n",
              "      --disabled-fill-color: #666;\n",
              "  }\n",
              "\n",
              "  .colab-df-quickchart {\n",
              "    background-color: var(--bg-color);\n",
              "    border: none;\n",
              "    border-radius: 50%;\n",
              "    cursor: pointer;\n",
              "    display: none;\n",
              "    fill: var(--fill-color);\n",
              "    height: 32px;\n",
              "    padding: 0;\n",
              "    width: 32px;\n",
              "  }\n",
              "\n",
              "  .colab-df-quickchart:hover {\n",
              "    background-color: var(--hover-bg-color);\n",
              "    box-shadow: 0 1px 2px rgba(60, 64, 67, 0.3), 0 1px 3px 1px rgba(60, 64, 67, 0.15);\n",
              "    fill: var(--button-hover-fill-color);\n",
              "  }\n",
              "\n",
              "  .colab-df-quickchart-complete:disabled,\n",
              "  .colab-df-quickchart-complete:disabled:hover {\n",
              "    background-color: var(--disabled-bg-color);\n",
              "    fill: var(--disabled-fill-color);\n",
              "    box-shadow: none;\n",
              "  }\n",
              "\n",
              "  .colab-df-spinner {\n",
              "    border: 2px solid var(--fill-color);\n",
              "    border-color: transparent;\n",
              "    border-bottom-color: var(--fill-color);\n",
              "    animation:\n",
              "      spin 1s steps(1) infinite;\n",
              "  }\n",
              "\n",
              "  @keyframes spin {\n",
              "    0% {\n",
              "      border-color: transparent;\n",
              "      border-bottom-color: var(--fill-color);\n",
              "      border-left-color: var(--fill-color);\n",
              "    }\n",
              "    20% {\n",
              "      border-color: transparent;\n",
              "      border-left-color: var(--fill-color);\n",
              "      border-top-color: var(--fill-color);\n",
              "    }\n",
              "    30% {\n",
              "      border-color: transparent;\n",
              "      border-left-color: var(--fill-color);\n",
              "      border-top-color: var(--fill-color);\n",
              "      border-right-color: var(--fill-color);\n",
              "    }\n",
              "    40% {\n",
              "      border-color: transparent;\n",
              "      border-right-color: var(--fill-color);\n",
              "      border-top-color: var(--fill-color);\n",
              "    }\n",
              "    60% {\n",
              "      border-color: transparent;\n",
              "      border-right-color: var(--fill-color);\n",
              "    }\n",
              "    80% {\n",
              "      border-color: transparent;\n",
              "      border-right-color: var(--fill-color);\n",
              "      border-bottom-color: var(--fill-color);\n",
              "    }\n",
              "    90% {\n",
              "      border-color: transparent;\n",
              "      border-bottom-color: var(--fill-color);\n",
              "    }\n",
              "  }\n",
              "</style>\n",
              "\n",
              "  <script>\n",
              "    async function quickchart(key) {\n",
              "      const quickchartButtonEl =\n",
              "        document.querySelector('#' + key + ' button');\n",
              "      quickchartButtonEl.disabled = true;  // To prevent multiple clicks.\n",
              "      quickchartButtonEl.classList.add('colab-df-spinner');\n",
              "      try {\n",
              "        const charts = await google.colab.kernel.invokeFunction(\n",
              "            'suggestCharts', [key], {});\n",
              "      } catch (error) {\n",
              "        console.error('Error during call to suggestCharts:', error);\n",
              "      }\n",
              "      quickchartButtonEl.classList.remove('colab-df-spinner');\n",
              "      quickchartButtonEl.classList.add('colab-df-quickchart-complete');\n",
              "    }\n",
              "    (() => {\n",
              "      let quickchartButtonEl =\n",
              "        document.querySelector('#df-ed7c5741-4ce2-41dc-a910-c419a1f64817 button');\n",
              "      quickchartButtonEl.style.display =\n",
              "        google.colab.kernel.accessAllowed ? 'block' : 'none';\n",
              "    })();\n",
              "  </script>\n",
              "</div>\n",
              "\n",
              "  <div id=\"id_ee694fc8-0cac-471e-86fd-70106e31befe\">\n",
              "    <style>\n",
              "      .colab-df-generate {\n",
              "        background-color: #E8F0FE;\n",
              "        border: none;\n",
              "        border-radius: 50%;\n",
              "        cursor: pointer;\n",
              "        display: none;\n",
              "        fill: #1967D2;\n",
              "        height: 32px;\n",
              "        padding: 0 0 0 0;\n",
              "        width: 32px;\n",
              "      }\n",
              "\n",
              "      .colab-df-generate:hover {\n",
              "        background-color: #E2EBFA;\n",
              "        box-shadow: 0px 1px 2px rgba(60, 64, 67, 0.3), 0px 1px 3px 1px rgba(60, 64, 67, 0.15);\n",
              "        fill: #174EA6;\n",
              "      }\n",
              "\n",
              "      [theme=dark] .colab-df-generate {\n",
              "        background-color: #3B4455;\n",
              "        fill: #D2E3FC;\n",
              "      }\n",
              "\n",
              "      [theme=dark] .colab-df-generate:hover {\n",
              "        background-color: #434B5C;\n",
              "        box-shadow: 0px 1px 3px 1px rgba(0, 0, 0, 0.15);\n",
              "        filter: drop-shadow(0px 1px 2px rgba(0, 0, 0, 0.3));\n",
              "        fill: #FFFFFF;\n",
              "      }\n",
              "    </style>\n",
              "    <button class=\"colab-df-generate\" onclick=\"generateWithVariable('similarity_df')\"\n",
              "            title=\"Generate code using this dataframe.\"\n",
              "            style=\"display:none;\">\n",
              "\n",
              "  <svg xmlns=\"http://www.w3.org/2000/svg\" height=\"24px\"viewBox=\"0 0 24 24\"\n",
              "       width=\"24px\">\n",
              "    <path d=\"M7,19H8.4L18.45,9,17,7.55,7,17.6ZM5,21V16.75L18.45,3.32a2,2,0,0,1,2.83,0l1.4,1.43a1.91,1.91,0,0,1,.58,1.4,1.91,1.91,0,0,1-.58,1.4L9.25,21ZM18.45,9,17,7.55Zm-12,3A5.31,5.31,0,0,0,4.9,8.1,5.31,5.31,0,0,0,1,6.5,5.31,5.31,0,0,0,4.9,4.9,5.31,5.31,0,0,0,6.5,1,5.31,5.31,0,0,0,8.1,4.9,5.31,5.31,0,0,0,12,6.5,5.46,5.46,0,0,0,6.5,12Z\"/>\n",
              "  </svg>\n",
              "    </button>\n",
              "    <script>\n",
              "      (() => {\n",
              "      const buttonEl =\n",
              "        document.querySelector('#id_ee694fc8-0cac-471e-86fd-70106e31befe button.colab-df-generate');\n",
              "      buttonEl.style.display =\n",
              "        google.colab.kernel.accessAllowed ? 'block' : 'none';\n",
              "\n",
              "      buttonEl.onclick = () => {\n",
              "        google.colab.notebook.generateWithVariable('similarity_df');\n",
              "      }\n",
              "      })();\n",
              "    </script>\n",
              "  </div>\n",
              "\n",
              "    </div>\n",
              "  </div>\n"
            ],
            "application/vnd.google.colaboratory.intrinsic+json": {
              "type": "dataframe",
              "variable_name": "similarity_df",
              "summary": "{\n  \"name\": \"similarity_df\",\n  \"rows\": 5,\n  \"fields\": [\n    {\n      \"column\": \"tree\",\n      \"properties\": {\n        \"dtype\": \"number\",\n        \"std\": 0.40928580279968774,\n        \"min\": 0.07142857142857142,\n        \"max\": 1.0,\n        \"num_unique_values\": 4,\n        \"samples\": [\n          0.07142857142857142,\n          0.125,\n          1.0\n        ],\n        \"semantic_type\": \"\",\n        \"description\": \"\"\n      }\n    },\n    {\n      \"column\": \"lion\",\n      \"properties\": {\n        \"dtype\": \"number\",\n        \"std\": 0.3684326673701553,\n        \"min\": 0.07142857142857142,\n        \"max\": 1.0,\n        \"num_unique_values\": 5,\n        \"samples\": [\n          1.0,\n          0.16666666666666666,\n          0.3333333333333333\n        ],\n        \"semantic_type\": \"\",\n        \"description\": \"\"\n      }\n    },\n    {\n      \"column\": \"tiger\",\n      \"properties\": {\n        \"dtype\": \"number\",\n        \"std\": 0.3684326673701553,\n        \"min\": 0.07142857142857142,\n        \"max\": 1.0,\n        \"num_unique_values\": 5,\n        \"samples\": [\n          0.3333333333333333,\n          0.16666666666666666,\n          1.0\n        ],\n        \"semantic_type\": \"\",\n        \"description\": \"\"\n      }\n    },\n    {\n      \"column\": \"cat\",\n      \"properties\": {\n        \"dtype\": \"number\",\n        \"std\": 0.367228142815525,\n        \"min\": 0.07692307692307693,\n        \"max\": 1.0,\n        \"num_unique_values\": 4,\n        \"samples\": [\n          0.25,\n          0.2,\n          0.07692307692307693\n        ],\n        \"semantic_type\": \"\",\n        \"description\": \"\"\n      }\n    },\n    {\n      \"column\": \"dog\",\n      \"properties\": {\n        \"dtype\": \"number\",\n        \"std\": 0.3745552918684592,\n        \"min\": 0.125,\n        \"max\": 1.0,\n        \"num_unique_values\": 4,\n        \"samples\": [\n          0.16666666666666666,\n          1.0,\n          0.125\n        ],\n        \"semantic_type\": \"\",\n        \"description\": \"\"\n      }\n    }\n  ]\n}"
            }
          },
          "metadata": {},
          "execution_count": 11
        }
      ]
    },
    {
      "cell_type": "code",
      "source": [
        "import nltk\n",
        "from nltk.corpus import sentiwordnet as swn\n",
        "\n",
        "senti_synsets = list(swn.senti_synsets('slow'))\n",
        "print('senti_synsets() 반환 type:', type(senti_synsets))\n",
        "print('senti_synsets() 반환 값 개수:', len(senti_synsets))\n",
        "print('senti_synsets() 반환 값:', senti_synsets)"
      ],
      "metadata": {
        "colab": {
          "base_uri": "https://localhost:8080/"
        },
        "id": "vY5QUii_yBYQ",
        "outputId": "78679d72-87f5-404f-966e-dc9dcfe47c96"
      },
      "execution_count": 12,
      "outputs": [
        {
          "output_type": "stream",
          "name": "stdout",
          "text": [
            "senti_synsets() 반환 type: <class 'list'>\n",
            "senti_synsets() 반환 값 개수: 11\n",
            "senti_synsets() 반환 값: [SentiSynset('decelerate.v.01'), SentiSynset('slow.v.02'), SentiSynset('slow.v.03'), SentiSynset('slow.a.01'), SentiSynset('slow.a.02'), SentiSynset('dense.s.04'), SentiSynset('slow.a.04'), SentiSynset('boring.s.01'), SentiSynset('dull.s.08'), SentiSynset('slowly.r.01'), SentiSynset('behind.r.03')]\n"
          ]
        }
      ]
    },
    {
      "cell_type": "code",
      "source": [
        "import nltk\n",
        "from nltk.corpus import sentiwordnet as swn\n",
        "\n",
        "father = swn.senti_synset('father.n.01')\n",
        "print('father 긍정감성 지수:', father.pos_score())\n",
        "print('father 부정감성 지수:', father.neg_score())\n",
        "print('father 객관성 지수:', father.obj_score())\n",
        "print('\\n')\n",
        "fabulous = swn.senti_synset('fabulous.a.01')\n",
        "print('fabulous 긍정감성 지수:', fabulous.pos_score())\n",
        "print('fabulous 부정감성 지수:', fabulous.neg_score())"
      ],
      "metadata": {
        "colab": {
          "base_uri": "https://localhost:8080/"
        },
        "id": "EJp0uqP-ylZa",
        "outputId": "c90f13ee-86cc-4955-c7f0-02ee9df6f7ed"
      },
      "execution_count": 14,
      "outputs": [
        {
          "output_type": "stream",
          "name": "stdout",
          "text": [
            "father 긍정감성 지수: 0.0\n",
            "father 부정감성 지수: 0.0\n",
            "father 객관성 지수: 1.0\n",
            "\n",
            "\n",
            "fabulous 긍정감성 지수: 0.875\n",
            "fabulous 부정감성 지수: 0.125\n"
          ]
        }
      ]
    },
    {
      "cell_type": "markdown",
      "source": [
        "- SentiWordNet을 이용한 영화 감상평 감성 분석"
      ],
      "metadata": {
        "id": "72WUqhSwyoXA"
      }
    },
    {
      "cell_type": "code",
      "source": [
        "from nltk.corpus import wordnet as wn\n",
        "\n",
        "# 간단한 NTLK PennTreebank Tag를 기반으로 WordNet 기반의 품사 Tag로 변환\n",
        "def penn_to_wn(tag):\n",
        "  if tag.startswith('3'):\n",
        "    return wn.ADJ\n",
        "  elif tag.startswith('N'):\n",
        "    return wn.NOUN\n",
        "  elif tag.startswith('R'):\n",
        "    return wn.ADV\n",
        "  elif tag.startswith('V'):\n",
        "    return wn.VERB"
      ],
      "metadata": {
        "id": "idIj6ey4ykPy"
      },
      "execution_count": 15,
      "outputs": []
    },
    {
      "cell_type": "code",
      "source": [
        "from nltk.stem import WordNetLemmatizer\n",
        "from nltk.corpus import sentiwordnet as swn\n",
        "from nltk import sent_tokenize, word_tokenize, pos_tag\n",
        "\n",
        "def swn_polarity(text):\n",
        "  # 감성 지수 초기화\n",
        "  sentiment = 0.0\n",
        "  tokens_count = 0\n",
        "\n",
        "  lemmatizer = WordNetLemmatizer()\n",
        "  raw_sentences = sent_tokenize(text)\n",
        "  # 분해된 문장별로 단어 토큰 -> 품사 태깅 후에 SentiSynset 생성 -> 감성 지수 합산\n",
        "  for raw_sentence in raw_sentences:\n",
        "    # NTLK 기반의 품사 태깅 문장 추출\n",
        "    tagged_sentence = pos_tag(word_tokenize(raw_sentence))\n",
        "    for word, tag in tagged_sentence:\n",
        "\n",
        "      # WordNet 기반 품사 태깅과 어근 추출\n",
        "      wn_tag = penn_to_wn(tag)\n",
        "      if wn_tag not in (wn.NOUN, wn.ADJ, wn.ADV):\n",
        "        continue\n",
        "      lemma = lemmatizer.lemmatize(word, pos=wn_tag)\n",
        "      if not lemma:\n",
        "        continue\n",
        "        # 어근을 추출한 단어와 WordNet 기반 품사 태깅을 입력해 Synset 객체를 생성\n",
        "        synsets = wn.synsets(lemma, pos=wn_tag)\n",
        "        if not synsets:\n",
        "          continue\n",
        "        # sentiwordnet의 감성 단어 분석으로 감성 synset 추출\n",
        "        # 모든 단어에 대해 긍정 감성 지수는 +로 부정 감성 지수는 -로 합산해 감성 지수 계산\n",
        "        synset = synsets[0]\n",
        "        swn_synset = swn.senti_synset(synset.name())\n",
        "        sentiment += (swn_synset.pos_score() - swn_synset.neg_score())\n",
        "        tokens_count += 1\n",
        "\n",
        "      if not tokens_count:\n",
        "        return 0\n",
        "\n",
        "      # 총 score가 0 이상일 경우 긍정(Positive) 1, 그렇지 않을 경우 부정(Negative) 0 반환\n",
        "      if sentiment >= 0:\n",
        "        return 1\n",
        "\n",
        "      return 0"
      ],
      "metadata": {
        "id": "8rQgoYtfz6A5"
      },
      "execution_count": 17,
      "outputs": []
    },
    {
      "cell_type": "code",
      "source": [
        "review_df['preds'] = review_df['review'].apply( lambda x : swn_polarity(x) )\n",
        "y_target = review_df['sentiment'].values\n",
        "preds = review_df['preds'].values"
      ],
      "metadata": {
        "id": "UXg13ydazZ45"
      },
      "execution_count": 19,
      "outputs": []
    },
    {
      "cell_type": "code",
      "source": [
        "from sklearn.metrics import accuracy_score, confusion_matrix, precision_score\n",
        "from sklearn.metrics import recall_score, f1_score, roc_auc_score\n",
        "import numpy as np\n",
        "\n",
        "print(confusion_matrix( y_target, preds))\n",
        "print('정확도:', np.round(accuracy_score(y_target , preds), 4))\n",
        "print('정밀도:', np.round(precision_score(y_target , preds), 4))\n",
        "print('재현율:', np.round(recall_score(y_target , preds), 4))"
      ],
      "metadata": {
        "colab": {
          "base_uri": "https://localhost:8080/"
        },
        "id": "g2SPlkrU0VDz",
        "outputId": "95c356e9-4a99-485d-dec9-90425191eb22"
      },
      "execution_count": 20,
      "outputs": [
        {
          "output_type": "stream",
          "name": "stdout",
          "text": [
            "[[12500     0]\n",
            " [12500     0]]\n",
            "정확도: 0.5\n",
            "정밀도: 0.0\n",
            "재현율: 0.0\n"
          ]
        },
        {
          "output_type": "stream",
          "name": "stderr",
          "text": [
            "/usr/local/lib/python3.11/dist-packages/sklearn/metrics/_classification.py:1565: UndefinedMetricWarning: Precision is ill-defined and being set to 0.0 due to no predicted samples. Use `zero_division` parameter to control this behavior.\n",
            "  _warn_prf(average, modifier, f\"{metric.capitalize()} is\", len(result))\n"
          ]
        }
      ]
    },
    {
      "cell_type": "markdown",
      "source": [
        "- VADER"
      ],
      "metadata": {
        "id": "Ittd2rR30Xin"
      }
    },
    {
      "cell_type": "code",
      "source": [
        "from nltk.sentiment.vader import SentimentIntensityAnalyzer\n",
        "\n",
        "senti_analyzer = SentimentIntensityAnalyzer()\n",
        "senti_scores = senti_analyzer.polarity_scores(review_df['review'][0])\n",
        "print(senti_scores)"
      ],
      "metadata": {
        "colab": {
          "base_uri": "https://localhost:8080/"
        },
        "id": "6AvRFIHX0Yn8",
        "outputId": "fac0a5a5-ee29-4fad-86d6-c7e6b3aea612"
      },
      "execution_count": 25,
      "outputs": [
        {
          "output_type": "stream",
          "name": "stdout",
          "text": [
            "{'neg': 0.127, 'neu': 0.747, 'pos': 0.125, 'compound': -0.7943}\n"
          ]
        }
      ]
    },
    {
      "cell_type": "code",
      "source": [
        "def vader_polarity(review, threshold=0.1):\n",
        "  analyzer = SentimentIntensityAnalyzer()\n",
        "  scores = analyzer.polarity_scores(review)\n",
        "\n",
        "  # compound 값에 기반해 threshold 입력값보다 크면 1, 그렇지 않으면 0을 반환\n",
        "  agg_score = scores['compound']\n",
        "  final_sentiment = 1 if agg_score >= threshold else 0\n",
        "  return final_sentiment\n",
        "\n",
        "# apply lambda 식을 이용해 레코드별로 vader_polarity( )를 수행하고 결과를 'vader_preds'에 저장\n",
        "review_df['vader_preds'] = review_df['review'].apply(lambda x : vader_polarity(x, 0.1) )\n",
        "y_target = review_df['sentiment'].values\n",
        "vader_preds = review_df['vader_preds'].values\n",
        "\n",
        "print(confusion_matrix(y_target, vader_preds))\n",
        "print(\"정확도:\", np.round(accuracy_score(y_target, vader_preds),4))"
      ],
      "metadata": {
        "colab": {
          "base_uri": "https://localhost:8080/"
        },
        "id": "9HssSI8A0ebi",
        "outputId": "6c941abd-665d-43f8-91d9-666945ecba81"
      },
      "execution_count": 28,
      "outputs": [
        {
          "output_type": "stream",
          "name": "stdout",
          "text": [
            "[[ 6749  5751]\n",
            " [ 1856 10644]]\n",
            "정확도: 0.6957\n"
          ]
        }
      ]
    },
    {
      "cell_type": "code",
      "source": [],
      "metadata": {
        "id": "HG2GIHih6VCM"
      },
      "execution_count": null,
      "outputs": []
    }
  ]
}